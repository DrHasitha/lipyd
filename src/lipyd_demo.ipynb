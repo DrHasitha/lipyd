{
 "cells": [
  {
   "cell_type": "markdown",
   "metadata": {},
   "source": [
    "# **lipyd** – A Python module for  \n",
    "# lipidomics LC MS/MS data analysis"
   ]
  },
  {
   "cell_type": "markdown",
   "metadata": {},
   "source": [
    "*Author:* Dénes Türei  \n",
    "*Contact:* turei.denes@gmail.com  \n",
    "*Git repositories (mirrored):*  \n",
    "- https://git.embl.de/turei/lipyd\n",
    "- https://bitbucket.org/deeenes/lipyd\n",
    "- https://github.com/saezlab/lipyd"
   ]
  },
  {
   "cell_type": "markdown",
   "metadata": {},
   "source": [
    "## 1: Chemical calculator"
   ]
  },
  {
   "cell_type": "code",
   "execution_count": 46,
   "metadata": {},
   "outputs": [
    {
     "data": {
      "text/plain": [
       "<module 'lipyd.formula' from '/home/denes/Dokumentumok/lipyd/src/lipyd/formula.py'>"
      ]
     },
     "execution_count": 46,
     "metadata": {},
     "output_type": "execute_result"
    }
   ],
   "source": [
    "import imp\n",
    "import itertools\n",
    "import pprint\n",
    "from lipyd import pprint_namedtuple\n",
    "pprint.PrettyPrinter = pprint_namedtuple.PrettyPrinter\n",
    "from lipyd import mass\n",
    "from lipyd import formula\n",
    "imp.reload(mass)\n",
    "imp.reload(formula)"
   ]
  },
  {
   "cell_type": "markdown",
   "metadata": {},
   "source": [
    "The `mass` module knows exact masses of isotopes, isotopic abundances, weights, etc. The `MassBase` class is able to process chemical formula, calculate masses and do arithmetics."
   ]
  },
  {
   "cell_type": "code",
   "execution_count": 3,
   "metadata": {},
   "outputs": [
    {
     "data": {
      "text/plain": [
       "22.989769282"
      ]
     },
     "execution_count": 3,
     "metadata": {},
     "output_type": "execute_result"
    }
   ],
   "source": [
    "mass.get_mass('Na')"
   ]
  },
  {
   "cell_type": "code",
   "execution_count": 6,
   "metadata": {},
   "outputs": [
    {
     "data": {
      "text/plain": [
       "46.04186481376"
      ]
     },
     "execution_count": 6,
     "metadata": {},
     "output_type": "execute_result"
    }
   ],
   "source": [
    "mass.MassBase('C2H6') - mass.MassBase('H') + mass.MassBase('OH')"
   ]
  },
  {
   "cell_type": "markdown",
   "metadata": {},
   "source": [
    "Expression evaluation with `mass.expr`:"
   ]
  },
  {
   "cell_type": "code",
   "execution_count": 8,
   "metadata": {},
   "outputs": [
    {
     "data": {
      "text/plain": [
       "46.04186481376"
      ]
     },
     "execution_count": 8,
     "metadata": {},
     "output_type": "execute_result"
    }
   ],
   "source": [
    "mass.expr('C2H6 - H + OH')"
   ]
  },
  {
   "cell_type": "code",
   "execution_count": 9,
   "metadata": {},
   "outputs": [
    {
     "data": {
      "text/plain": [
       "162.0528234236"
      ]
     },
     "execution_count": 9,
     "metadata": {},
     "output_type": "execute_result"
    }
   ],
   "source": [
    "mass.expr('C6H12O6 - water')"
   ]
  },
  {
   "cell_type": "markdown",
   "metadata": {},
   "source": [
    "Make a deuterium:"
   ]
  },
  {
   "cell_type": "code",
   "execution_count": 11,
   "metadata": {},
   "outputs": [
    {
     "data": {
      "text/plain": [
       "2.0164899481400003"
      ]
     },
     "execution_count": 11,
     "metadata": {},
     "output_type": "execute_result"
    }
   ],
   "source": [
    "mass.expr('H + n')"
   ]
  },
  {
   "cell_type": "markdown",
   "metadata": {},
   "source": [
    "Hydrogensulphate ion:"
   ]
  },
  {
   "cell_type": "code",
   "execution_count": 12,
   "metadata": {},
   "outputs": [
    {
     "data": {
      "text/plain": [
       "96.96010326786924"
      ]
     },
     "execution_count": 12,
     "metadata": {},
     "output_type": "execute_result"
    }
   ],
   "source": [
    "mass.expr('HSO4 + e')"
   ]
  },
  {
   "cell_type": "markdown",
   "metadata": {},
   "source": [
    "Additional attributes can be provided in keyword arguments to carry metadata."
   ]
  },
  {
   "cell_type": "code",
   "execution_count": 40,
   "metadata": {},
   "outputs": [
    {
     "data": {
      "text/plain": [
       "'lactic acid'"
      ]
     },
     "execution_count": 40,
     "metadata": {},
     "output_type": "execute_result"
    }
   ],
   "source": [
    "lactic_acid = formula.Formula('CH3CHOHCOOH', name = 'lactic acid')\n",
    "lactic_acid.attrs.name"
   ]
  },
  {
   "cell_type": "markdown",
   "metadata": {},
   "source": [
    "A galactose:"
   ]
  },
  {
   "cell_type": "code",
   "execution_count": 15,
   "metadata": {},
   "outputs": [
    {
     "data": {
      "text/plain": [
       "'C12H22O11'"
      ]
     },
     "execution_count": 15,
     "metadata": {},
     "output_type": "execute_result"
    }
   ],
   "source": [
    "((2 * formula.Formula('C6H12O6')) - 'H2O').formula"
   ]
  },
  {
   "cell_type": "markdown",
   "metadata": {},
   "source": [
    "## 2: Calculations with adducts"
   ]
  },
  {
   "cell_type": "code",
   "execution_count": 4,
   "metadata": {},
   "outputs": [],
   "source": [
    "from lipyd import mz"
   ]
  },
  {
   "cell_type": "markdown",
   "metadata": {},
   "source": [
    "This is an oleic acid. What is the mass of the [M-H]- adduct?"
   ]
  },
  {
   "cell_type": "code",
   "execution_count": 17,
   "metadata": {},
   "outputs": [
    {
     "data": {
      "text/plain": [
       "281.24860387047"
      ]
     },
     "execution_count": 17,
     "metadata": {},
     "output_type": "execute_result"
    }
   ],
   "source": [
    "formula.Formula('C18H34O2').remove_h()"
   ]
  },
  {
   "cell_type": "markdown",
   "metadata": {},
   "source": [
    "We have seen a mass and wondering what is the exact mass if it is an [M+NH4]+ adduct:"
   ]
  },
  {
   "cell_type": "code",
   "execution_count": 22,
   "metadata": {},
   "outputs": [
    {
     "data": {
      "text/plain": [
       "836.5426570444603"
      ]
     },
     "execution_count": 22,
     "metadata": {},
     "output_type": "execute_result"
    }
   ],
   "source": [
    "mz.Mz(854.576482597791).remove_nh4()"
   ]
  },
  {
   "cell_type": "markdown",
   "metadata": {},
   "source": [
    "Calculate the [M+Li]+ adduct for the same molecule:"
   ]
  },
  {
   "cell_type": "code",
   "execution_count": 24,
   "metadata": {},
   "outputs": [
    {
     "data": {
      "text/plain": [
       "843.558111907551"
      ]
     },
     "execution_count": 24,
     "metadata": {},
     "output_type": "execute_result"
    }
   ],
   "source": [
    "mz.Mz(836.5426570444603).adduct(mass.MassBase('Li', charge = 1))"
   ]
  },
  {
   "cell_type": "markdown",
   "metadata": {},
   "source": [
    "## 3: Metabolite model"
   ]
  },
  {
   "cell_type": "markdown",
   "metadata": {},
   "source": [
    "Metabolites consist of a core and optionally substituents. Substituents might be formulas or moieties with aliphatic chains."
   ]
  },
  {
   "cell_type": "code",
   "execution_count": 5,
   "metadata": {},
   "outputs": [
    {
     "data": {
      "text/plain": [
       "<module 'lipyd.substituent' from '/home/denes/Dokumentumok/lipyd/src/lipyd/substituent.py'>"
      ]
     },
     "execution_count": 5,
     "metadata": {},
     "output_type": "execute_result"
    }
   ],
   "source": [
    "from lipyd import metabolite\n",
    "from lipyd import substituent\n",
    "imp.reload(metabolite)\n",
    "imp.reload(substituent)"
   ]
  },
  {
   "cell_type": "markdown",
   "metadata": {},
   "source": [
    "Make all combinations of halogenated methanes:"
   ]
  },
  {
   "cell_type": "code",
   "execution_count": 6,
   "metadata": {},
   "outputs": [],
   "source": [
    "halo_methanes = metabolite.AbstractMetabolite(\n",
    "    core = 'C',\n",
    "    subs = [('H', 'F', 'Cl', 'Br', 'I')] * 4\n",
    ")"
   ]
  },
  {
   "cell_type": "markdown",
   "metadata": {},
   "source": [
    "Check the first 3:"
   ]
  },
  {
   "cell_type": "code",
   "execution_count": 7,
   "metadata": {},
   "outputs": [
    {
     "data": {
      "text/plain": [
       "[('C1H4', 16.031300129039998),\n",
       " ('C1F1H3', 34.02187826038),\n",
       " ('C1Cl1H3', 49.99232782678)]"
      ]
     },
     "execution_count": 7,
     "metadata": {},
     "output_type": "execute_result"
    }
   ],
   "source": [
    "[(m.formula, m.mass) for m in halo_methanes][:3]"
   ]
  },
  {
   "cell_type": "markdown",
   "metadata": {},
   "source": [
    "Do the same with all alcohols up to 1-8 carbon count with 0-2 unsaturated bonds:"
   ]
  },
  {
   "cell_type": "code",
   "execution_count": 34,
   "metadata": {},
   "outputs": [
    {
     "data": {
      "text/plain": [
       "[('C1H4O1', 32.02621474924),\n",
       " ('C2H6O1', 46.04186481376),\n",
       " ('C3H8O1', 60.057514878279996)]"
      ]
     },
     "execution_count": 34,
     "metadata": {},
     "output_type": "execute_result"
    }
   ],
   "source": [
    "chain = metabolite.AbstractSubstituent(c = (1, 8), u = (0, 2))\n",
    "alcohols = metabolite.AbstractMetabolite(subs = (chain, ('OH',)))\n",
    "[(m.formula, m.mass) for m in alcohols][:3]"
   ]
  },
  {
   "cell_type": "markdown",
   "metadata": {},
   "source": [
    "Make some ceramides:"
   ]
  },
  {
   "cell_type": "code",
   "execution_count": 9,
   "metadata": {},
   "outputs": [
    {
     "data": {
      "text/plain": [
       "[('Cer(18:1/16:0)', 'C34H67N1O3', 537.51209502622, 555.5459205795507),\n",
       " ('Cer(18:1/16:1)', 'C34H65N1O3', 535.4964449617, 553.5302705150308),\n",
       " ('Cer(18:1/18:0)', 'C36H71N1O3', 565.54339515526, 583.5772207085907),\n",
       " ('Cer(18:1/18:1)', 'C36H69N1O3', 563.52774509074, 581.5615706440708),\n",
       " ('Cer(18:1/20:0)', 'C38H75N1O3', 593.5746952843, 611.6085208376307),\n",
       " ('Cer(18:1/20:1)', 'C38H73N1O3', 591.55904521978, 609.5928707731108)]"
      ]
     },
     "execution_count": 9,
     "metadata": {},
     "output_type": "execute_result"
    }
   ],
   "source": [
    "# fatty acyls of length 16, 18 or 20 and one or no unsaturation:\n",
    "fattyacyl = substituent.FattyAcyl(c = (16, 18, 20), u = (0, 1))\n",
    "lcb = substituent.Sphingosine(c = 18, u = 1)\n",
    "ceramides = metabolite.AbstractMetabolite(core = 'H', subs = (lcb, fattyacyl), name = 'Cer')\n",
    "# name, formula, mass, [M+H]+, [M+NH4]+\n",
    "[(cer.name, cer.formula, cer.mass, cer.add_nh4()) for cer in ceramides]"
   ]
  },
  {
   "cell_type": "markdown",
   "metadata": {},
   "source": [
    "## 4: Lipid definitions"
   ]
  },
  {
   "cell_type": "markdown",
   "metadata": {},
   "source": [
    "In the `lipyd.lipid` module more than 150 lipid varieties are predefined."
   ]
  },
  {
   "cell_type": "code",
   "execution_count": 11,
   "metadata": {},
   "outputs": [],
   "source": [
    "from lipyd import lipid"
   ]
  },
  {
   "cell_type": "code",
   "execution_count": 16,
   "metadata": {},
   "outputs": [],
   "source": [
    "d_ceramides = lipid.CeramideD(\n",
    "    sph_args = {'c': 18, 'u': (0, 1)},\n",
    "    fa_args  = {'c': (14, 24), 'u': (0, 4), 'even': True},\n",
    ")"
   ]
  },
  {
   "cell_type": "code",
   "execution_count": 30,
   "metadata": {},
   "outputs": [
    {
     "data": {
      "text/plain": [
       "[('Cer(DH18:0/14:0)', 511.49644496170004),\n",
       " ('Cer(DH18:0/14:1)', 509.48079489718003),\n",
       " ('Cer(DH18:0/14:2)', 507.46514483266003)]"
      ]
     },
     "execution_count": 30,
     "metadata": {},
     "output_type": "execute_result"
    }
   ],
   "source": [
    "[(cer.name, cer.mass) for cer in d_ceramides][:3]"
   ]
  },
  {
   "cell_type": "markdown",
   "metadata": {},
   "source": [
    "## 5: External databases"
   ]
  },
  {
   "cell_type": "markdown",
   "metadata": {},
   "source": [
    "The `lipyd.moldb` module provides access to *SwissLipis* and *LipidMaps*. Automatically downloads and processes the databases which you can search by various names and identifiers, you can also access structures as OpenBabel objects, InChI and SMILE strings."
   ]
  },
  {
   "cell_type": "code",
   "execution_count": 39,
   "metadata": {},
   "outputs": [],
   "source": [
    "from lipyd import moldb\n",
    "from lipyd import name\n",
    "from lipyd.lipproc import *"
   ]
  },
  {
   "cell_type": "markdown",
   "metadata": {},
   "source": [
    "### 5.1: SwissLipids"
   ]
  },
  {
   "cell_type": "code",
   "execution_count": 40,
   "metadata": {},
   "outputs": [
    {
     "name": "stderr",
     "output_type": "stream",
     "text": [
      "        Indexing SwissLipids -- finished: 100%|██████████| 623M/623M [00:13<00:00, 47.4Mit/s]\n"
     ]
    }
   ],
   "source": [
    "swl = moldb.SwissLipids(levels = {'species'})"
   ]
  },
  {
   "cell_type": "markdown",
   "metadata": {},
   "source": [
    "Get phosphatidylethanolamines as OpenBabel objects:"
   ]
  },
  {
   "cell_type": "code",
   "execution_count": 155,
   "metadata": {},
   "outputs": [],
   "source": [
    "swl.reload()\n",
    "pe = swl.get_hg_obmol('PE')\n",
    "pe0 = next(pe)\n",
    "pe0.draw()"
   ]
  },
  {
   "cell_type": "code",
   "execution_count": 49,
   "metadata": {},
   "outputs": [
    {
     "data": {
      "text/plain": [
       "['Phosphatidylethanolamine (28:1)',\n",
       " 'Phosphatidylethanolamine (39:3)',\n",
       " 'Phosphatidylethanolamine (O-29:1)']"
      ]
     },
     "execution_count": 49,
     "metadata": {},
     "output_type": "execute_result"
    }
   ],
   "source": [
    "[m.title for m in itertools.islice(pe, 0, 3)]"
   ]
  },
  {
   "cell_type": "markdown",
   "metadata": {},
   "source": [
    "### 5.2: LipidMaps"
   ]
  },
  {
   "cell_type": "code",
   "execution_count": 52,
   "metadata": {},
   "outputs": [
    {
     "name": "stdout",
     "output_type": "stream",
     "text": [
      "\t:: Indexed 42556 records from `cache/LMSDFDownload12Dec17FinalAll.sdf`.\n"
     ]
    }
   ],
   "source": [
    "lm = moldb.LipidMaps()"
   ]
  },
  {
   "cell_type": "code",
   "execution_count": 53,
   "metadata": {},
   "outputs": [
    {
     "data": {
      "text/plain": [
       "{'COMMON_NAME': 'gibberellin A17',\n",
       " 'SYNONYMS': 'GA17; gibberellin 17',\n",
       " 'PUBCHEM_CID': '5460657',\n",
       " 'CHEBI_ID': '24236',\n",
       " 'INCHI': 'InChI=1S/C20H26O7/c1-10-8-18-9-19(10,27)7-4-11(18)20(16(25)26)6-3-5-17(2,15(23)24)13(20)12(18)14(21)22/h11-13,27H,1,3-9H2,2H3,(H,21,22)(H,23,24)(H,25,26)/t11-,12-,13-,17-,18+,19+,20-/m1/s1'}"
      ]
     },
     "execution_count": 53,
     "metadata": {},
     "output_type": "execute_result"
    }
   ],
   "source": [
    "gibberellin = list(lm.get_record('LMPR0104170034', typ = 'mainkey'))[0]\n",
    "gibberellin['name']"
   ]
  },
  {
   "cell_type": "markdown",
   "metadata": {},
   "source": [
    "LipidMaps too is able to yield OpenBabel objects:"
   ]
  },
  {
   "cell_type": "code",
   "execution_count": 156,
   "metadata": {},
   "outputs": [],
   "source": [
    "tag = list(lm.get_obmol('TAG(15:0_20:4_20:5)', 'synonym'))[0]\n",
    "tag.draw()"
   ]
  },
  {
   "cell_type": "markdown",
   "metadata": {},
   "source": [
    "## 6: Lipid name parser"
   ]
  },
  {
   "cell_type": "markdown",
   "metadata": {},
   "source": [
    "In order to make the databases computationally useful and use them as a combined database, we need to process their nomenclature. The `lipyd.name` module is able to recognize dozens of lipid names used in SwissLipids and LipidMaps."
   ]
  },
  {
   "cell_type": "code",
   "execution_count": 67,
   "metadata": {},
   "outputs": [],
   "source": [
    "from lipyd import name"
   ]
  },
  {
   "cell_type": "code",
   "execution_count": 68,
   "metadata": {},
   "outputs": [],
   "source": [
    "nameproc = name.LipidNameProcessor(database = 'swisslipids', iso = True)"
   ]
  },
  {
   "cell_type": "code",
   "execution_count": 70,
   "metadata": {},
   "outputs": [],
   "source": [
    "processed_name = nameproc.process(\n",
    "    ['Phosphatidylethanolamine (16:0/20:4(5Z,8Z,11Z,14Z))']\n",
    ")"
   ]
  },
  {
   "cell_type": "code",
   "execution_count": 71,
   "metadata": {},
   "outputs": [
    {
     "name": "stdout",
     "output_type": "stream",
     "text": [
      "(\n",
      "  Headgroup(main='PE', sub=()),\n",
      "  ChainSummary(\n",
      "    c = 36,\n",
      "    u = 4,\n",
      "    typ = ('FA', 'FA'),\n",
      "    attr = (\n",
      "        ChainAttr(sph='', ether=False, oh=()),\n",
      "     ChainAttr(sph='', ether=False, oh=())\n",
      "        ),\n",
      "    iso = None\n",
      "  ),\n",
      "  (\n",
      "    Chain(\n",
      "      c = 16,\n",
      "      u = 0,\n",
      "      typ = 'FA',\n",
      "      attr = ChainAttr(sph='', ether=False, oh=()),\n",
      "      iso = ()\n",
      "    ),\n",
      "   Chain(\n",
      "      c = 20,\n",
      "      u = 4,\n",
      "      typ = 'FA',\n",
      "      attr = ChainAttr(sph='', ether=False, oh=()),\n",
      "      iso = ('5Z', '8Z', '11Z', '14Z')\n",
      "    )\n",
      "    )\n",
      "  )\n"
     ]
    }
   ],
   "source": [
    "pprint.pprint(processed_name)"
   ]
  },
  {
   "cell_type": "markdown",
   "metadata": {},
   "source": [
    "It understands even greek names:"
   ]
  },
  {
   "cell_type": "code",
   "execution_count": 76,
   "metadata": {},
   "outputs": [
    {
     "data": {
      "text/plain": [
       "(Headgroup(main='FA', sub=()),\n",
       " ChainSummary(c=20, u=5, typ=('FA',), attr=(ChainAttr(sph='', ether=False, oh=()),), iso=None),\n",
       " [Chain(c=20, u=5, typ='FA', attr=ChainAttr(sph='', ether=False, oh=()), iso=())])"
      ]
     },
     "execution_count": 76,
     "metadata": {},
     "output_type": "execute_result"
    }
   ],
   "source": [
    "nameproc.process(['eicosapentaenoate'])"
   ]
  },
  {
   "cell_type": "markdown",
   "metadata": {},
   "source": [
    "## 7: Combined molecule database"
   ]
  },
  {
   "cell_type": "code",
   "execution_count": 56,
   "metadata": {},
   "outputs": [
    {
     "name": "stderr",
     "output_type": "stream",
     "text": [
      "        Indexing SwissLipids -- finished: 100%|██████████| 623M/623M [00:13<00:00, 16.0Mit/s]\n"
     ]
    },
    {
     "name": "stdout",
     "output_type": "stream",
     "text": [
      "\t:: Indexed 42556 records from `cache/LMSDFDownload12Dec17FinalAll.sdf`.\n"
     ]
    },
    {
     "name": "stderr",
     "output_type": "stream",
     "text": [
      "        Generating metabolites -- finished: 100%|██████████| 44.0/44.0 [00:09<00:00, 4.50it/s]\n",
      "        Generating metabolites -- finished: 100%|██████████| 18.0/18.0 [00:05<00:00, 4.10it/s]\n",
      "        Generating metabolites -- finished: 100%|██████████| 106/106 [00:09<00:00, 11.4it/s] \n",
      "        Generating metabolites -- finished: 100%|██████████| 1.00/1.00 [00:00<00:00, 11.9it/s]\n",
      "        Generating metabolites -- finished: 100%|██████████| 1.00/1.00 [00:00<00:00, 48.9it/s]\n"
     ]
    }
   ],
   "source": [
    "db = moldb.MoleculeDatabaseAggregator()"
   ]
  },
  {
   "cell_type": "markdown",
   "metadata": {},
   "source": [
    "Either exact masses or adducts can be searched in the database by `lookup` and `adduct_lookup` methods, respectively."
   ]
  },
  {
   "cell_type": "code",
   "execution_count": 60,
   "metadata": {},
   "outputs": [],
   "source": [
    "result = db.adduct_lookup(757.549011, ionmode = 'pos')"
   ]
  },
  {
   "cell_type": "markdown",
   "metadata": {},
   "source": [
    "Take a closer look at one of the resulted records:"
   ]
  },
  {
   "cell_type": "code",
   "execution_count": 62,
   "metadata": {},
   "outputs": [
    {
     "name": "stdout",
     "output_type": "stream",
     "text": [
      "LipidRecord(\n",
      "  lab = LipidLabel(db_id=None, db='lipyd.lipid', names=('PC(33:4)',)),\n",
      "  hg = Headgroup(main='PC', sub=()),\n",
      "  chainsum = ChainSummary(\n",
      "      c = 33,\n",
      "      u = 4,\n",
      "      typ = ('FA', 'FA'),\n",
      "      attr = (\n",
      "          ChainAttr(sph='', ether=False, oh=()),\n",
      "      ChainAttr(sph='', ether=False, oh=())\n",
      "          ),\n",
      "      iso = None\n",
      "    ),\n",
      "  chains = ()\n",
      ")\n"
     ]
    }
   ],
   "source": [
    "pprint.pprint(result['[M+NH4]+'][1][2])"
   ]
  },
  {
   "cell_type": "markdown",
   "metadata": {},
   "source": [
    "The exact masses and errors for all hits are also provided. Errors in ppm:"
   ]
  },
  {
   "cell_type": "code",
   "execution_count": 65,
   "metadata": {},
   "outputs": [
    {
     "data": {
      "text/plain": [
       "array([-1.69750819e-02, -1.69750819e-02, -2.69161082e-02, -2.69161082e-02,\n",
       "       -2.69161082e-02, -2.69161082e-02, -3.04974547e-02, -3.04974547e-02,\n",
       "       -3.04974547e-02, -3.04974547e-02, -3.04974547e-02, -3.04974547e-02,\n",
       "       -3.04974547e-02, -3.04974547e-02, -3.04974547e-02, -3.04974547e-02,\n",
       "       -3.04974547e-02, -3.04974547e-02, -3.04974547e-02, -3.04974547e-02,\n",
       "       -3.04974547e-02, -3.04974547e-02, -3.04974547e-02, -3.04974547e-02,\n",
       "       -3.04974547e-02, -3.04974547e-02, -3.04974547e-02, -3.04974547e-02,\n",
       "       -3.04974547e-02, -3.04974547e-02, -3.04974547e-02, -3.23033863e+00,\n",
       "       -3.23033863e+00, -3.23033863e+00, -1.11723392e+01,  1.73995818e+01,\n",
       "        1.73995818e+01,  1.73995818e+01])"
      ]
     },
     "execution_count": 65,
     "metadata": {},
     "output_type": "execute_result"
    }
   ],
   "source": [
    "result['[M+NH4]+'][2]"
   ]
  },
  {
   "cell_type": "markdown",
   "metadata": {},
   "source": [
    "Repeat the lookup with lower tolerance, and the items with high ppm disappear:"
   ]
  },
  {
   "cell_type": "code",
   "execution_count": 66,
   "metadata": {},
   "outputs": [
    {
     "data": {
      "text/plain": [
       "array([-0.01697508, -0.01697508, -0.02691611, -0.02691611, -0.02691611,\n",
       "       -0.02691611, -0.03049745, -0.03049745, -0.03049745, -0.03049745,\n",
       "       -0.03049745, -0.03049745, -0.03049745, -0.03049745, -0.03049745,\n",
       "       -0.03049745, -0.03049745, -0.03049745, -0.03049745, -0.03049745,\n",
       "       -0.03049745, -0.03049745, -0.03049745, -0.03049745, -0.03049745,\n",
       "       -0.03049745, -0.03049745, -0.03049745, -0.03049745, -0.03049745,\n",
       "       -0.03049745, -3.23033863, -3.23033863, -3.23033863])"
      ]
     },
     "execution_count": 66,
     "metadata": {},
     "output_type": "execute_result"
    }
   ],
   "source": [
    "result = db.adduct_lookup(757.549011, ionmode = 'pos', tolerance = 5)\n",
    "result['[M+NH4]+'][2]"
   ]
  },
  {
   "cell_type": "markdown",
   "metadata": {},
   "source": [
    "## 8: MS2 fragment definitions"
   ]
  },
  {
   "cell_type": "markdown",
   "metadata": {},
   "source": [
    "The fragment database provided by `lipyd.fragment` and `lipyd.fragdb` modules works similar way as `lipyd.lipid` and `lipyd.moldb`. `lipyd.fragment` contains near 100 predefined aliphatic chain derived fragments. In addition 140 headgroup derived fragments are included like for example 184 for choline."
   ]
  },
  {
   "cell_type": "code",
   "execution_count": 79,
   "metadata": {},
   "outputs": [],
   "source": [
    "from lipyd import fragment\n",
    "from lipyd import fragdb"
   ]
  },
  {
   "cell_type": "markdown",
   "metadata": {},
   "source": [
    "As an example take a look at a [Sph-NH2-OH]- fragment:"
   ]
  },
  {
   "cell_type": "code",
   "execution_count": 85,
   "metadata": {},
   "outputs": [],
   "source": [
    "sphfrag = fragment.Sph_mNH2_mOH(c = 18, u = 1)"
   ]
  },
  {
   "cell_type": "markdown",
   "metadata": {},
   "source": [
    "At this fragment type the constraints tell us which lipid varieties this fragment can be observed. In this case *dCer* and *DHCer*."
   ]
  },
  {
   "cell_type": "code",
   "execution_count": 86,
   "metadata": {},
   "outputs": [
    {
     "data": {
      "text/plain": [
       "(FragConstraint(hg='Cer', family=None, sub=None, sph='d', oh=0, chaintype='Sph'),\n",
       " FragConstraint(hg='Cer', family=None, sub=None, sph='DH', oh=0, chaintype='Sph'))"
      ]
     },
     "execution_count": 86,
     "metadata": {},
     "output_type": "execute_result"
    }
   ],
   "source": [
    "sphfrag.constraints"
   ]
  },
  {
   "cell_type": "code",
   "execution_count": 87,
   "metadata": {},
   "outputs": [
    {
     "data": {
      "text/plain": [
       "(-1, 263.2380392001693)"
      ]
     },
     "execution_count": 87,
     "metadata": {},
     "output_type": "execute_result"
    }
   ],
   "source": [
    "list(sphfrag)[0].charge, list(sphfrag)[0].mass"
   ]
  },
  {
   "cell_type": "markdown",
   "metadata": {},
   "source": [
    "## 9: MS2 fragment database"
   ]
  },
  {
   "cell_type": "markdown",
   "metadata": {},
   "source": [
    "Look up a negative mode fragment m/z in the database. It results an array with mass, fragment name, fragment type, aliphatic chain type, carbon count, unsaturation and charge in each row. At neutral losses the charge is 0."
   ]
  },
  {
   "cell_type": "code",
   "execution_count": 89,
   "metadata": {},
   "outputs": [
    {
     "data": {
      "text/plain": [
       "array([[283.2642539494093, '[FA(18:0)-H]-', 'FA-H', 'FA', 18, 0, -1],\n",
       "       [283.2642539494093, '[Sph(20:0)-C2H4-NH2-2H]-', 'Sph-C2H4-NH2-2H',\n",
       "        'Sph', 20, 0, -1]], dtype=object)"
      ]
     },
     "execution_count": 89,
     "metadata": {},
     "output_type": "execute_result"
    }
   ],
   "source": [
    "fragdb.lookup_neg(283.26)"
   ]
  },
  {
   "cell_type": "markdown",
   "metadata": {},
   "source": [
    "Now let's annotate an MS2 scan with possible fragment identifications. To do this we open an example MGF file included in the module. The `lipyd.mgf` module serves MS2 scans from MGF files on demand. Btw the `lipyd.settings` module gives easy access for and control over near 100 customizable parameters."
   ]
  },
  {
   "cell_type": "code",
   "execution_count": 104,
   "metadata": {},
   "outputs": [],
   "source": [
    "from lipyd import mgf\n",
    "from lipyd import settings\n",
    "mgffile = settings.get('mgf_example')\n",
    "mgfreader = mgf.MgfReader(mgffile)\n",
    "precursor = 590.45536 # this is a Cer-1P\n",
    "idx, rtdiff = mgfreader.lookup_scan_ids(precursor)"
   ]
  },
  {
   "cell_type": "markdown",
   "metadata": {},
   "source": [
    "We found the following scans for precursor 590.455:"
   ]
  },
  {
   "cell_type": "code",
   "execution_count": 105,
   "metadata": {},
   "outputs": [
    {
     "data": {
      "text/plain": [
       "array([1941, 1929,  427,  423,  589,  645,  642,  308,  481,  478,  586,\n",
       "        368,  696,  535,  532,  755,  752,  700,  721])"
      ]
     },
     "execution_count": 105,
     "metadata": {},
     "output_type": "execute_result"
    }
   ],
   "source": [
    "idx"
   ]
  },
  {
   "cell_type": "markdown",
   "metadata": {},
   "source": [
    "Select a scan from the ones above and annotate its fragments:"
   ]
  },
  {
   "cell_type": "code",
   "execution_count": 106,
   "metadata": {},
   "outputs": [],
   "source": [
    "scan = mgfreader.scan_by_id(1941)\n",
    "annot = fragdb.FragmentAnnotator(\n",
    "    mzs = scan[:,0],\n",
    "    ionmode = 'pos',\n",
    "    precursor = precursor\n",
    ")"
   ]
  },
  {
   "cell_type": "markdown",
   "metadata": {},
   "source": [
    "One example of the annotations. This fragment ranks 25 by intensity."
   ]
  },
  {
   "cell_type": "code",
   "execution_count": 112,
   "metadata": {},
   "outputs": [
    {
     "name": "stdout",
     "output_type": "stream",
     "text": [
      "(\n",
      "  FragmentAnnotation(\n",
      "    mz = 228.23219101229077,\n",
      "    name = '[Sph(14:0)-H2O+H]+',\n",
      "    fragtype = 'Sph-H2O+H',\n",
      "    chaintype = 'Sph',\n",
      "    c = 14,\n",
      "    u = 0,\n",
      "    charge = 1\n",
      "  ),\n",
      "  FragmentAnnotation(\n",
      "    mz = 228.23219101229077,\n",
      "    name = '[FA(14:0)+NH2-O]+',\n",
      "    fragtype = 'FA+NH2-O',\n",
      "    chaintype = 'FA',\n",
      "    c = 14,\n",
      "    u = 0,\n",
      "    charge = 1\n",
      "  ),\n",
      "  FragmentAnnotation(\n",
      "    mz = 228.23219101229077,\n",
      "    name = '[Sph(14:1)-O+H]+',\n",
      "    fragtype = 'Sph-O+H',\n",
      "    chaintype = 'Sph',\n",
      "    c = 14,\n",
      "    u = 1,\n",
      "    charge = 1\n",
      "  )\n",
      "  )\n"
     ]
    }
   ],
   "source": [
    "pprint.pprint(list(annot)[24])"
   ]
  },
  {
   "cell_type": "markdown",
   "metadata": {},
   "source": [
    "## 10: MS2 spectrum analysis"
   ]
  },
  {
   "cell_type": "markdown",
   "metadata": {},
   "source": [
    "The `lipyd.ms2.Scan` class is able to perform the entire identification workflow. By an alternative constructor method it can be initialized by providing and MGF file and scan ID."
   ]
  },
  {
   "cell_type": "code",
   "execution_count": 114,
   "metadata": {},
   "outputs": [],
   "source": [
    "from lipyd import ms2"
   ]
  },
  {
   "cell_type": "code",
   "execution_count": 138,
   "metadata": {},
   "outputs": [],
   "source": [
    "mgfname = settings.get('mgf_pos_examples')\n",
    "scan_id = 3626\n",
    "scan = ms2.Scan.from_mgf(mgfname, scan_id, 'pos')"
   ]
  },
  {
   "cell_type": "markdown",
   "metadata": {},
   "source": [
    "If not provided the `Scan` instance performs the database lookup of the precursor ion. Here are the results:"
   ]
  },
  {
   "cell_type": "code",
   "execution_count": 143,
   "metadata": {},
   "outputs": [
    {
     "name": "stdout",
     "output_type": "stream",
     "text": [
      "LipidRecord(\n",
      "  lab = LipidLabel(db_id=None, db='lipyd.lipid', names=('Hex2-Cer(t42:2)',)),\n",
      "  hg = Headgroup(main='Cer', sub=('Hex2',)),\n",
      "  chainsum = ChainSummary(\n",
      "      c = 42,\n",
      "      u = 2,\n",
      "      typ = ('Sph', 'FA'),\n",
      "      attr = (\n",
      "          ChainAttr(sph='t', ether=False, oh=()),\n",
      "      ChainAttr(sph='', ether=False, oh=())\n",
      "          ),\n",
      "      iso = None\n",
      "    ),\n",
      "  chains = ()\n",
      ")\n"
     ]
    }
   ],
   "source": [
    "pprint.pprint(scan.ms1_records['[M+H]+'][1][0])"
   ]
  },
  {
   "cell_type": "markdown",
   "metadata": {},
   "source": [
    "The `identify` method attempts to confirm each of the records by analysing the MS2 spectrum."
   ]
  },
  {
   "cell_type": "code",
   "execution_count": 145,
   "metadata": {},
   "outputs": [],
   "source": [
    "identity = scan.identify()"
   ]
  },
  {
   "cell_type": "markdown",
   "metadata": {},
   "source": [
    "The results are grouped by lipid species and come with a score. Hex2-Cer(t42:2) got a score of 45, which is the highest at this scan:"
   ]
  },
  {
   "cell_type": "code",
   "execution_count": 148,
   "metadata": {},
   "outputs": [
    {
     "name": "stdout",
     "output_type": "stream",
     "text": [
      "MS2Identity(\n",
      "  score = 45,\n",
      "  hg = Headgroup(main='Cer', sub=('Hex2',)),\n",
      "  chainsum = ChainSummary(\n",
      "      c = 42,\n",
      "      u = 2,\n",
      "      typ = ('Sph', 'FA'),\n",
      "      attr = (\n",
      "          ChainAttr(sph='t', ether=False, oh=()),\n",
      "      ChainAttr(sph='', ether=False, oh=())\n",
      "          ),\n",
      "      iso = None\n",
      "    ),\n",
      "  chains = (\n",
      "      Chain(\n",
      "        c = 18,\n",
      "        u = 1,\n",
      "        typ = 'Sph',\n",
      "        attr = ChainAttr(sph='t', ether=False, oh=()),\n",
      "        iso = ()\n",
      "      ),\n",
      "    Chain(\n",
      "        c = 24,\n",
      "        u = 1,\n",
      "        typ = 'FA',\n",
      "        attr = ChainAttr(sph='', ether=False, oh=()),\n",
      "        iso = ()\n",
      "      )\n",
      "      ),\n",
      "  details = ChainIdentificationDetails(rank = (0, None), i = (1.0, None), fragtype = ('Sph-2xH2O-H', None))\n",
      ")\n"
     ]
    }
   ],
   "source": [
    "pprint.pprint(identity['Hex2-Cer(t42:2)'][0])"
   ]
  },
  {
   "cell_type": "markdown",
   "metadata": {},
   "source": [
    "At the same time there were attempts to confirm for example Hex-Cer(d53:9-2OH) but it resulted a score of 0."
   ]
  },
  {
   "cell_type": "code",
   "execution_count": 151,
   "metadata": {},
   "outputs": [
    {
     "name": "stdout",
     "output_type": "stream",
     "text": [
      "MS2Identity(\n",
      "  score = 0,\n",
      "  hg = Headgroup(main='Cer', sub=('Hex',)),\n",
      "  chainsum = ChainSummary(\n",
      "      c = 53,\n",
      "      u = 9,\n",
      "      typ = ('Sph', 'FAOH'),\n",
      "      attr = (\n",
      "          ChainAttr(sph='d', ether=False, oh=()),\n",
      "      ChainAttr(sph='', ether=False, oh=('2OH',))\n",
      "          ),\n",
      "      iso = None\n",
      "    ),\n",
      "  chains = (\n",
      "      Chain(\n",
      "        c = 17,\n",
      "        u = 1,\n",
      "        typ = 'Sph',\n",
      "        attr = ChainAttr(sph='d', ether=False, oh=()),\n",
      "        iso = ()\n",
      "      ),\n",
      "    Chain(\n",
      "        c = 36,\n",
      "        u = 8,\n",
      "        typ = 'FAOH',\n",
      "        attr = ChainAttr(sph='', ether=False, oh=('2OH',)),\n",
      "        iso = ()\n",
      "      )\n",
      "      ),\n",
      "  details = ChainIdentificationDetails(\n",
      "      rank = (1, None),\n",
      "      i = (0.18172325900094663, None),\n",
      "      fragtype = ('Sph-2xH2O+H', None)\n",
      "    )\n",
      ")\n"
     ]
    }
   ],
   "source": [
    "pprint.pprint(identity['Hex-Cer(d53:9-2OH)'][0])"
   ]
  },
  {
   "cell_type": "markdown",
   "metadata": {},
   "source": [
    "Let's see one more example."
   ]
  },
  {
   "cell_type": "code",
   "execution_count": 152,
   "metadata": {},
   "outputs": [],
   "source": [
    "mgfname = settings.get('mgf_neg_examples')\n",
    "scan_id = 2516\n",
    "scan = ms2.Scan.from_mgf(mgfname, scan_id, 'neg')\n",
    "identity = scan.identify()"
   ]
  },
  {
   "cell_type": "markdown",
   "metadata": {},
   "source": [
    "We see that this is a PI(34:1) with score 11 and both fatty acyl fragments are confirmed by [FA-H]- ions (see the `ChainIdentificationDetails` object). These fragments are the 1st and 2nd most abundant with relative intensities of 100% and 99%."
   ]
  },
  {
   "cell_type": "code",
   "execution_count": 154,
   "metadata": {},
   "outputs": [
    {
     "name": "stdout",
     "output_type": "stream",
     "text": [
      "MS2Identity(\n",
      "  score = 11.0,\n",
      "  hg = Headgroup(main='PI', sub=()),\n",
      "  chainsum = ChainSummary(\n",
      "      c = 34,\n",
      "      u = 1,\n",
      "      typ = ('FA', 'FA'),\n",
      "      attr = (\n",
      "          ChainAttr(sph='', ether=False, oh=()),\n",
      "      ChainAttr(sph='', ether=False, oh=())\n",
      "          ),\n",
      "      iso = None\n",
      "    ),\n",
      "  chains = (\n",
      "      Chain(\n",
      "        c = 18,\n",
      "        u = 1,\n",
      "        typ = 'FA',\n",
      "        attr = ChainAttr(sph='', ether=False, oh=()),\n",
      "        iso = ()\n",
      "      ),\n",
      "    Chain(\n",
      "        c = 16,\n",
      "        u = 0,\n",
      "        typ = 'FA',\n",
      "        attr = ChainAttr(sph='', ether=False, oh=()),\n",
      "        iso = ()\n",
      "      )\n",
      "      ),\n",
      "  details = ChainIdentificationDetails(rank = (0, 1), i = (1.0, 0.9897746748655405), fragtype = ('FA-H', 'FA-H'))\n",
      ")\n"
     ]
    }
   ],
   "source": [
    "pprint.pprint(identity['PI(34:1)'][0])"
   ]
  },
  {
   "cell_type": "code",
   "execution_count": null,
   "metadata": {},
   "outputs": [],
   "source": []
  }
 ],
 "metadata": {
  "celltoolbar": "Raw Cell Format",
  "kernelspec": {
   "display_name": "Python 3",
   "language": "python",
   "name": "python3"
  },
  "language_info": {
   "codemirror_mode": {
    "name": "ipython",
    "version": 3
   },
   "file_extension": ".py",
   "mimetype": "text/x-python",
   "name": "python",
   "nbconvert_exporter": "python",
   "pygments_lexer": "ipython3",
   "version": "3.7.0"
  }
 },
 "nbformat": 4,
 "nbformat_minor": 2
}
