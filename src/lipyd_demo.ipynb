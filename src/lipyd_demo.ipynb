{
 "cells": [
  {
   "cell_type": "markdown",
   "metadata": {},
   "source": [
    "# `lipyd`: a Python module for lipidomics LC MS/MS data analysis"
   ]
  },
  {
   "cell_type": "markdown",
   "metadata": {},
   "source": [
    "### 1: Chemical calculator"
   ]
  },
  {
   "cell_type": "code",
   "execution_count": 14,
   "metadata": {},
   "outputs": [
    {
     "data": {
      "text/plain": [
       "<module 'lipyd.formula' from '/home/denes/Dokumentumok/lipyd/src/lipyd/formula.py'>"
      ]
     },
     "execution_count": 14,
     "metadata": {},
     "output_type": "execute_result"
    }
   ],
   "source": [
    "import imp\n",
    "from lipyd import mass\n",
    "from lipyd import formula\n",
    "imp.reload(mass)\n",
    "imp.reload(formula)"
   ]
  },
  {
   "cell_type": "markdown",
   "metadata": {},
   "source": [
    "The `mass` module knows exact masses of isotopes, isotopic abundances, weights, etc. The `MassBase` class is able to process chemical formula, calculate masses and do arithmetics."
   ]
  },
  {
   "cell_type": "code",
   "execution_count": 4,
   "metadata": {},
   "outputs": [
    {
     "data": {
      "text/plain": [
       "22.989769282"
      ]
     },
     "execution_count": 4,
     "metadata": {},
     "output_type": "execute_result"
    }
   ],
   "source": [
    "mass.get_mass('Na')"
   ]
  },
  {
   "cell_type": "code",
   "execution_count": 6,
   "metadata": {},
   "outputs": [
    {
     "data": {
      "text/plain": [
       "46.04186481376"
      ]
     },
     "execution_count": 6,
     "metadata": {},
     "output_type": "execute_result"
    }
   ],
   "source": [
    "mass.MassBase('C2H6') - mass.MassBase('H') + mass.MassBase('OH')"
   ]
  },
  {
   "cell_type": "markdown",
   "metadata": {},
   "source": [
    "Expression evaluation with `mass.expr`:"
   ]
  },
  {
   "cell_type": "code",
   "execution_count": 8,
   "metadata": {},
   "outputs": [
    {
     "data": {
      "text/plain": [
       "46.04186481376"
      ]
     },
     "execution_count": 8,
     "metadata": {},
     "output_type": "execute_result"
    }
   ],
   "source": [
    "mass.expr('C2H6 - H + OH')"
   ]
  },
  {
   "cell_type": "code",
   "execution_count": 9,
   "metadata": {},
   "outputs": [
    {
     "data": {
      "text/plain": [
       "162.0528234236"
      ]
     },
     "execution_count": 9,
     "metadata": {},
     "output_type": "execute_result"
    }
   ],
   "source": [
    "mass.expr('C6H12O6 - water')"
   ]
  },
  {
   "cell_type": "markdown",
   "metadata": {},
   "source": [
    "Make a deuterium:"
   ]
  },
  {
   "cell_type": "code",
   "execution_count": 11,
   "metadata": {},
   "outputs": [
    {
     "data": {
      "text/plain": [
       "2.0164899481400003"
      ]
     },
     "execution_count": 11,
     "metadata": {},
     "output_type": "execute_result"
    }
   ],
   "source": [
    "mass.expr('H + n')"
   ]
  },
  {
   "cell_type": "markdown",
   "metadata": {},
   "source": [
    "Hydrogensulphate ion:"
   ]
  },
  {
   "cell_type": "code",
   "execution_count": 12,
   "metadata": {},
   "outputs": [
    {
     "data": {
      "text/plain": [
       "96.96010326786924"
      ]
     },
     "execution_count": 12,
     "metadata": {},
     "output_type": "execute_result"
    }
   ],
   "source": [
    "mass.expr('HSO4 + e')"
   ]
  },
  {
   "cell_type": "markdown",
   "metadata": {},
   "source": [
    "Additional attributes can be provided in keyword arguments to carry metadata."
   ]
  },
  {
   "cell_type": "code",
   "execution_count": 40,
   "metadata": {},
   "outputs": [
    {
     "data": {
      "text/plain": [
       "'lactic acid'"
      ]
     },
     "execution_count": 40,
     "metadata": {},
     "output_type": "execute_result"
    }
   ],
   "source": [
    "lactic_acid = formula.Formula('CH3CHOHCOOH', name = 'lactic acid')\n",
    "lactic_acid.attrs.name"
   ]
  },
  {
   "cell_type": "markdown",
   "metadata": {},
   "source": [
    "A galactose:"
   ]
  },
  {
   "cell_type": "code",
   "execution_count": 15,
   "metadata": {},
   "outputs": [
    {
     "data": {
      "text/plain": [
       "'C12H22O11'"
      ]
     },
     "execution_count": 15,
     "metadata": {},
     "output_type": "execute_result"
    }
   ],
   "source": [
    "((2 * formula.Formula('C6H12O6')) - 'H2O').formula"
   ]
  },
  {
   "cell_type": "markdown",
   "metadata": {},
   "source": [
    "### 2: Calculations with adducts"
   ]
  },
  {
   "cell_type": "code",
   "execution_count": 16,
   "metadata": {},
   "outputs": [],
   "source": [
    "from lipyd import mz"
   ]
  },
  {
   "cell_type": "markdown",
   "metadata": {},
   "source": [
    "This is an oleic acid. What is the mass of the [M-H]- adduct?"
   ]
  },
  {
   "cell_type": "code",
   "execution_count": 17,
   "metadata": {},
   "outputs": [
    {
     "data": {
      "text/plain": [
       "281.24860387047"
      ]
     },
     "execution_count": 17,
     "metadata": {},
     "output_type": "execute_result"
    }
   ],
   "source": [
    "formula.Formula('C18H34O2').remove_h()"
   ]
  },
  {
   "cell_type": "markdown",
   "metadata": {},
   "source": [
    "We have seen a mass and wondering what is the exact mass if it is an [M+NH4]+ adduct:"
   ]
  },
  {
   "cell_type": "code",
   "execution_count": 22,
   "metadata": {},
   "outputs": [
    {
     "data": {
      "text/plain": [
       "836.5426570444603"
      ]
     },
     "execution_count": 22,
     "metadata": {},
     "output_type": "execute_result"
    }
   ],
   "source": [
    "mz.Mz(854.576482597791).remove_nh4()"
   ]
  },
  {
   "cell_type": "markdown",
   "metadata": {},
   "source": [
    "Calculate the [M+Li]+ adduct for the same molecule:"
   ]
  },
  {
   "cell_type": "code",
   "execution_count": 24,
   "metadata": {},
   "outputs": [
    {
     "data": {
      "text/plain": [
       "843.558111907551"
      ]
     },
     "execution_count": 24,
     "metadata": {},
     "output_type": "execute_result"
    }
   ],
   "source": [
    "mz.Mz(836.5426570444603).adduct(mass.MassBase('Li', charge = 1))"
   ]
  },
  {
   "cell_type": "markdown",
   "metadata": {},
   "source": [
    "### 3: Metabolite model"
   ]
  },
  {
   "cell_type": "markdown",
   "metadata": {},
   "source": [
    "Metabolites consist of a core and optionally substituents. Substituents might be formulas or moieties with aliphatic chains."
   ]
  },
  {
   "cell_type": "code",
   "execution_count": 35,
   "metadata": {},
   "outputs": [
    {
     "data": {
      "text/plain": [
       "<module 'lipyd.substituent' from '/home/denes/Dokumentumok/lipyd/src/lipyd/substituent.py'>"
      ]
     },
     "execution_count": 35,
     "metadata": {},
     "output_type": "execute_result"
    }
   ],
   "source": [
    "from lipyd import metabolite\n",
    "from lipyd import substituent\n",
    "imp.reload(metabolite)\n",
    "imp.reload(substituent)"
   ]
  },
  {
   "cell_type": "markdown",
   "metadata": {},
   "source": [
    "Make all combinations of halogenated methanes:"
   ]
  },
  {
   "cell_type": "code",
   "execution_count": 28,
   "metadata": {},
   "outputs": [],
   "source": [
    "halo_methanes = metabolite.AbstractMetabolite(core = 'C', subs = [('H', 'F', 'Cl', 'Br', 'I')] * 4)"
   ]
  },
  {
   "cell_type": "markdown",
   "metadata": {},
   "source": [
    "Check the first 3:"
   ]
  },
  {
   "cell_type": "code",
   "execution_count": 30,
   "metadata": {},
   "outputs": [
    {
     "data": {
      "text/plain": [
       "[('C1H4', 16.031300129039998),\n",
       " ('C1F1H3', 34.02187826038),\n",
       " ('C1Cl1H3', 49.99232782678)]"
      ]
     },
     "execution_count": 30,
     "metadata": {},
     "output_type": "execute_result"
    }
   ],
   "source": [
    "[(m.formula, m.mass) for m in halo_methanes][:3]"
   ]
  },
  {
   "cell_type": "markdown",
   "metadata": {},
   "source": [
    "Do the same with all alcohols up to 1-8 carbon count with 0-2 unsaturated bonds:"
   ]
  },
  {
   "cell_type": "code",
   "execution_count": 34,
   "metadata": {},
   "outputs": [
    {
     "data": {
      "text/plain": [
       "[('C1H4O1', 32.02621474924),\n",
       " ('C2H6O1', 46.04186481376),\n",
       " ('C3H8O1', 60.057514878279996)]"
      ]
     },
     "execution_count": 34,
     "metadata": {},
     "output_type": "execute_result"
    }
   ],
   "source": [
    "chain = metabolite.AbstractSubstituent(c = (1, 8), u = (0, 2))\n",
    "alcohols = metabolite.AbstractMetabolite(subs = (chain, ('OH',)))\n",
    "[(m.formula, m.mass) for m in alcohols][:3]"
   ]
  },
  {
   "cell_type": "markdown",
   "metadata": {},
   "source": [
    "Make some ceramides:"
   ]
  },
  {
   "cell_type": "code",
   "execution_count": 39,
   "metadata": {},
   "outputs": [
    {
     "data": {
      "text/plain": [
       "[('Cer(18:1/16:0)', 'C34H67N1O3', 537.51209502622, 555.5459205795507),\n",
       " ('Cer(18:1/16:1)', 'C34H65N1O3', 535.4964449617, 553.5302705150308),\n",
       " ('Cer(18:1/18:0)', 'C36H71N1O3', 565.54339515526, 583.5772207085907),\n",
       " ('Cer(18:1/18:1)', 'C36H69N1O3', 563.52774509074, 581.5615706440708),\n",
       " ('Cer(18:1/20:0)', 'C38H75N1O3', 593.5746952843, 611.6085208376307),\n",
       " ('Cer(18:1/20:1)', 'C38H73N1O3', 591.55904521978, 609.5928707731108)]"
      ]
     },
     "execution_count": 39,
     "metadata": {},
     "output_type": "execute_result"
    }
   ],
   "source": [
    "# fatty acyls of length 16, 18 or 20 and one or no unsaturation:\n",
    "fattyacyl = substituent.FattyAcyl(c = (16, 18, 20), u = (0, 1))\n",
    "lcb = substituent.Sphingosine(c = 18, u = 1)\n",
    "ceramides = metabolite.AbstractMetabolite(core = 'H', subs = (lcb, fattyacyl), name = 'Cer')\n",
    "# name, formula, mass, [M+H]+, [M+NH4]+\n",
    "[(cer.name, cer.formula, cer.mass, cer.add_nh4()) for cer in ceramides]"
   ]
  },
  {
   "cell_type": "markdown",
   "metadata": {},
   "source": [
    "### 2: Metabolite database"
   ]
  },
  {
   "cell_type": "code",
   "execution_count": 1,
   "metadata": {},
   "outputs": [
    {
     "name": "stderr",
     "output_type": "stream",
     "text": [
      "        Indexing SwissLipids -- finished: 100%|██████████| 623M/623M [00:15<00:00, 39.8Mit/s]\n"
     ]
    },
    {
     "name": "stdout",
     "output_type": "stream",
     "text": [
      "\t:: Indexed 42556 records from `cache/LMSDFDownload12Dec17FinalAll.sdf`.\n"
     ]
    },
    {
     "name": "stderr",
     "output_type": "stream",
     "text": [
      "        Generating metabolites -- finished: 100%|██████████| 40.0/40.0 [00:09<00:00, 3.46it/s]\n",
      "        Generating metabolites -- finished: 100%|██████████| 6.00/6.00 [00:02<00:00, 2.53it/s]\n",
      "        Generating metabolites -- finished: 100%|██████████| 61.0/61.0 [00:10<00:00, 5.99it/s]\n"
     ]
    }
   ],
   "source": [
    "from lipyd import moldb\n",
    "imp.reload(moldb)\n",
    "\n",
    "db = moldb.MoleculeDatabaseAggregator()"
   ]
  },
  {
   "cell_type": "code",
   "execution_count": 4,
   "metadata": {},
   "outputs": [],
   "source": [
    "db.reload()"
   ]
  },
  {
   "cell_type": "code",
   "execution_count": 6,
   "metadata": {},
   "outputs": [
    {
     "data": {
      "text/plain": [
       "{'[M+H]+': (array([756.54175445, 756.54175445, 756.53289004, 756.530524  ,\n",
       "         756.530524  , 756.530524  , 756.530524  , 756.530524  ,\n",
       "         756.53052106, 756.53052106, 756.530521  , 756.530518  ]),\n",
       "  array([[LipidLabel(db_id=None, db='lipyd.lipid', names=('SM(t36:4-2OH)',)),\n",
       "          Headgroup(main='SM', sub=()),\n",
       "          Chain(c=36, u=4, typ=None, attr=ChainAttr(sph='t', ether=False, oh=('2OH',)), iso=()),\n",
       "          ()],\n",
       "         [LipidLabel(db_id=None, db='lipyd.lipid', names=('PE-Cer(t39:4-2OH)',)),\n",
       "          Headgroup(main='Cer', sub=('PE',)),\n",
       "          Chain(c=39, u=4, typ=None, attr=ChainAttr(sph='t', ether=False, oh=('2OH',)), iso=()),\n",
       "          ()],\n",
       "         [LipidLabel(db_id=None, db='lipyd.lipid', names=('TAG(46:11)',)),\n",
       "          Headgroup(main='TAG', sub=()),\n",
       "          Chain(c=46, u=11, typ=None, attr=ChainAttr(sph='', ether=False, oh=()), iso=()),\n",
       "          ()],\n",
       "         [LipidLabel(db_id='LMGP04020031', db='LipidMaps', names=('PG(O-18:0/18:4(6Z,9Z,12Z,15Z))', \"1-octadecyl-2-(6Z,9Z,12Z,15Z-octadecatetraenoyl)-glycero-3-phospho-(1'-sn-glycerol)\")),\n",
       "          Headgroup(main='PG', sub=('',)),\n",
       "          Chain(c=36, u=4, typ=None, attr=ChainAttr(sph='', ether=True, oh=()), iso=()),\n",
       "          (Chain(c=18, u=0, typ='FA', attr=ChainAttr(sph='', ether=True, oh=()), iso=()), Chain(c=18, u=4, typ='FA', attr=ChainAttr(sph='', ether=False, oh=()), iso=('6Z', '9Z', '12Z', '15Z')))],\n",
       "         [LipidLabel(db_id='LMGP04030021', db='LipidMaps', names=('PG(P-16:0/20:3(8Z,11Z,14Z))', \"1-(1Z-hexadecenyl)-2-(8Z,11Z,14Z-eicosatrienoyl)-glycero-3-phospho-(1'-sn-glycerol)\")),\n",
       "          Headgroup(main='PG', sub=('',)),\n",
       "          Chain(c=36, u=3, typ=None, attr=ChainAttr(sph='', ether=True, oh=()), iso=()),\n",
       "          (Chain(c=16, u=0, typ='FA', attr=ChainAttr(sph='', ether=True, oh=()), iso=()), Chain(c=20, u=3, typ='FA', attr=ChainAttr(sph='', ether=False, oh=()), iso=('8Z', '11Z', '14Z')))],\n",
       "         [LipidLabel(db_id='LMGP04020090', db='LipidMaps', names=('PG(O-16:0/20:4(5Z,8Z,11Z,14Z))', \"1-hexadecyl-2-(5Z,8Z,11Z,14Z-eicosatetraenoyl)-glycero-3-phospho-(1'-sn-glycerol)\")),\n",
       "          Headgroup(main='PG', sub=('',)),\n",
       "          Chain(c=36, u=4, typ=None, attr=ChainAttr(sph='', ether=True, oh=()), iso=()),\n",
       "          (Chain(c=16, u=0, typ='FA', attr=ChainAttr(sph='', ether=True, oh=()), iso=()), Chain(c=20, u=4, typ='FA', attr=ChainAttr(sph='', ether=False, oh=()), iso=('5Z', '8Z', '11Z', '14Z')))],\n",
       "         [LipidLabel(db_id='LMGP04030041', db='LipidMaps', names=('PG(P-18:0/18:3(6Z,9Z,12Z))', \"1-(1Z-octadecenyl)-2-(6Z,9Z,12Z-octadecatrienoyl)-glycero-3-phospho-(1'-sn-glycerol)\")),\n",
       "          Headgroup(main='PG', sub=('',)),\n",
       "          Chain(c=36, u=3, typ=None, attr=ChainAttr(sph='', ether=True, oh=()), iso=()),\n",
       "          (Chain(c=18, u=0, typ='FA', attr=ChainAttr(sph='', ether=True, oh=()), iso=()), Chain(c=18, u=3, typ='FA', attr=ChainAttr(sph='', ether=False, oh=()), iso=('6Z', '9Z', '12Z')))],\n",
       "         [LipidLabel(db_id='LMGP04030042', db='LipidMaps', names=('PG(P-18:0/18:3(9Z,12Z,15Z))', \"1-(1Z-octadecenyl)-2-(9Z,12Z,15Z-octadecatrienoyl)-glycero-3-phospho-(1'-sn-glycerol)\")),\n",
       "          Headgroup(main='PG', sub=('',)),\n",
       "          Chain(c=36, u=3, typ=None, attr=ChainAttr(sph='', ether=True, oh=()), iso=()),\n",
       "          (Chain(c=18, u=0, typ='FA', attr=ChainAttr(sph='', ether=True, oh=()), iso=()), Chain(c=18, u=3, typ='FA', attr=ChainAttr(sph='', ether=False, oh=()), iso=('9Z', '12Z', '15Z')))],\n",
       "         [LipidLabel(db_id=None, db='lipyd.lipid', names=('PG(O-36:4)',)),\n",
       "          Headgroup(main='PG', sub=()),\n",
       "          Chain(c=36, u=4, typ=None, attr=ChainAttr(sph='', ether=True, oh=()), iso=()),\n",
       "          ()],\n",
       "         [LipidLabel(db_id=None, db='lipyd.lipid', names=('LysoPG(36:4)',)),\n",
       "          Headgroup(main='LysoPG', sub=()),\n",
       "          Chain(c=36, u=4, typ=None, attr=ChainAttr(sph='', ether=False, oh=()), iso=()),\n",
       "          ()],\n",
       "         [LipidLabel(db_id='SLM:000508581', db='SwissLipids', names=('Phosphatidylglycerol (O-36:4)', 'PG(O-36:4)', '')),\n",
       "          Headgroup(main='PG', sub=('',)), None, list([])],\n",
       "         [LipidLabel(db_id='SLM:000055551', db='SwissLipids', names=('Lysophosphatidylglycerol (36:4)', 'LPG(36:4)', '')),\n",
       "          Headgroup(main='PG', sub=('',)), None, list([])]], dtype=object),\n",
       "  array([-0.0263294 , -0.0263294 , 11.69068262, 14.81812928, 14.81812928,\n",
       "         14.81812928, 14.81812928, 14.81812928, 14.82200968, 14.82200968,\n",
       "         14.82209469, 14.82606011])),\n",
       " '[M+NH4]+': (array([739.515198  , 739.515198  , 739.51520535, 739.51520535,\n",
       "         739.51520535, 739.51520535, 739.515208  , 739.515208  ,\n",
       "         739.515208  , 739.515208  , 739.515208  , 739.515208  ,\n",
       "         739.515208  , 739.515208  , 739.515208  , 739.515208  ,\n",
       "         739.515208  , 739.515208  , 739.515208  , 739.515208  ,\n",
       "         739.515208  , 739.515208  , 739.515208  , 739.515208  ,\n",
       "         739.515208  , 739.515208  , 739.515208  , 739.515208  ,\n",
       "         739.515208  , 739.515208  , 739.515208  , 739.51757433,\n",
       "         739.51757433, 739.51757433, 739.52344756, 739.50231819,\n",
       "         739.50231819]),\n",
       "  array([[LipidLabel(db_id='SLM:000057183', db='SwissLipids', names=('Phosphatidylethanolamine (36:4)', 'PE(36:4)', '')),\n",
       "          Headgroup(main='PE', sub=('',)), None, list([])],\n",
       "         [LipidLabel(db_id='SLM:000056504', db='SwissLipids', names=('Phosphatidylcholine (33:4)', 'PC(33:4)', '')),\n",
       "          Headgroup(main='PC', sub=('',)), None, list([])],\n",
       "         [LipidLabel(db_id=None, db='lipyd.lipid', names=('PE(36:4)',)),\n",
       "          Headgroup(main='PE', sub=()),\n",
       "          Chain(c=36, u=4, typ=None, attr=ChainAttr(sph='', ether=False, oh=()), iso=()),\n",
       "          ()],\n",
       "         [LipidLabel(db_id=None, db='lipyd.lipid', names=('Cer1P(t41:5-2OH)',)),\n",
       "          Headgroup(main='Cer', sub=('1P',)),\n",
       "          Chain(c=41, u=5, typ=None, attr=ChainAttr(sph='t', ether=False, oh=('2OH',)), iso=()),\n",
       "          ()],\n",
       "         [LipidLabel(db_id=None, db='lipyd.lipid', names=('PC(33:4)',)),\n",
       "          Headgroup(main='PC', sub=()),\n",
       "          Chain(c=33, u=4, typ=None, attr=ChainAttr(sph='', ether=False, oh=()), iso=()),\n",
       "          ()],\n",
       "         [LipidLabel(db_id=None, db='lipyd.lipid', names=('LysoPS(O-35:5)',)),\n",
       "          Headgroup(main='LysoPS', sub=()),\n",
       "          Chain(c=35, u=5, typ=None, attr=ChainAttr(sph='', ether=True, oh=()), iso=()),\n",
       "          ()],\n",
       "         [LipidLabel(db_id='LMGP01011356', db='LipidMaps', names=('PC(13:0/20:4(5Z,8Z,11Z,14Z))', '1-tridecanoyl-2-(5Z,8Z,11Z,14Z-eicosatetraenoyl)-glycero-3-phosphocholine')),\n",
       "          Headgroup(main='PC', sub=('',)),\n",
       "          Chain(c=33, u=4, typ=None, attr=ChainAttr(sph='', ether=False, oh=()), iso=()),\n",
       "          (Chain(c=13, u=0, typ='FA', attr=ChainAttr(sph='', ether=False, oh=()), iso=()), Chain(c=20, u=4, typ='FA', attr=ChainAttr(sph='', ether=False, oh=()), iso=('5Z', '8Z', '11Z', '14Z')))],\n",
       "         [LipidLabel(db_id='LMGP20020005', db='LipidMaps', names=('PE(P-16:0/20:4(5Z,8Z,10E,14Z)(12OH[S]))', '1-O-(1Z-hexadecenyl)-2-(12S-hydroxy-5Z,8Z,10E,14Z-eicosatetraenoyl)-sn-glycero-3-phosphoethanolamine', '16:0p/12-HETE-PE')),\n",
       "          Headgroup(main='PE', sub=('',)),\n",
       "          Chain(c=36, u=4, typ=None, attr=ChainAttr(sph='', ether=True, oh=('12OH',)), iso=()),\n",
       "          (Chain(c=16, u=0, typ='FA', attr=ChainAttr(sph='', ether=True, oh=()), iso=()), Chain(c=20, u=4, typ='FA', attr=ChainAttr(sph='', ether=False, oh=('12OH',)), iso=('5Z', '8Z', '10E', '14Z')))],\n",
       "         [LipidLabel(db_id='LMGP02011174', db='LipidMaps', names=('PE(20:4(5Z,8Z,11Z,14Z)/16:0)', '1-(5Z,8Z,11Z,14Z-eicosatetraenoyl)-2-hexadecanoyl-glycero-3-phosphoethanolamine')),\n",
       "          Headgroup(main='PE', sub=('',)),\n",
       "          Chain(c=36, u=4, typ=None, attr=ChainAttr(sph='', ether=False, oh=()), iso=()),\n",
       "          (Chain(c=20, u=4, typ='FA', attr=ChainAttr(sph='', ether=False, oh=()), iso=('5Z', '8Z', '11Z', '14Z')), Chain(c=16, u=0, typ='FA', attr=ChainAttr(sph='', ether=False, oh=()), iso=()))],\n",
       "         [LipidLabel(db_id='LMGP02010112', db='LipidMaps', names=('PE(18:2(6Z,9Z)/18:2(6Z,9Z))', '1,2-di-(6Z,9Z-octadecadienoyl)-sn-glycero-3-phosphoethanolamine', '6,9-Octadecadienoic acid, 1-[[[(2-aminoethoxy)hydroxyphosphinyl]oxy]methyl]-1,2-ethanediyl ester, [R-(all-Z)]-', 'PE(18:2/18:2)')),\n",
       "          Headgroup(main='PE', sub=('',)),\n",
       "          Chain(c=36, u=4, typ=None, attr=ChainAttr(sph='', ether=False, oh=()), iso=()),\n",
       "          (Chain(c=18, u=2, typ='FA', attr=ChainAttr(sph='', ether=False, oh=()), iso=('6Z', '9Z')), Chain(c=18, u=2, typ='FA', attr=ChainAttr(sph='', ether=False, oh=()), iso=('6Z', '9Z')))],\n",
       "         [LipidLabel(db_id='LMGP02010111', db='LipidMaps', names=('PE(18:2(9Z,12Z)/18:2(9Z,12Z))', '1,2-di-(9Z,12Z-octadecadienoyl)-sn-glycero-3-phosphoethanolamine', '9,12-Octadecadienoic acid (Z,Z)-, 1-[[[(2-aminoethoxy)hydroxyphosphinyl]oxy]methyl]-1,2-ethanediyl ester, (R)-', 'Ethanol, 2-amino-, dihydrogen phosphate (ester) monoester with 1,2-dilinolein, (+)-', 'Linolein, 1,2-di-, 2-aminoethyl hydrogen phosphate, (+)-', 'L', 'PE(18:2/18:2)')),\n",
       "          Headgroup(main='PE', sub=('',)),\n",
       "          Chain(c=36, u=4, typ=None, attr=ChainAttr(sph='', ether=False, oh=()), iso=()),\n",
       "          (Chain(c=18, u=2, typ='FA', attr=ChainAttr(sph='', ether=False, oh=()), iso=('9Z', '12Z')), Chain(c=18, u=2, typ='FA', attr=ChainAttr(sph='', ether=False, oh=()), iso=('9Z', '12Z')))],\n",
       "         [LipidLabel(db_id='LMGP01011446', db='LipidMaps', names=('PC(15:1(9Z)/18:3(9Z,12Z,15Z))', '1-(9Z-pentadecenoyl)-2-(9Z,12Z,15Z-octadecatrienoyl)-glycero-3-phosphocholine')),\n",
       "          Headgroup(main='PC', sub=('',)),\n",
       "          Chain(c=33, u=4, typ=None, attr=ChainAttr(sph='', ether=False, oh=()), iso=()),\n",
       "          (Chain(c=15, u=1, typ='FA', attr=ChainAttr(sph='', ether=False, oh=()), iso=('9Z',)), Chain(c=18, u=3, typ='FA', attr=ChainAttr(sph='', ether=False, oh=()), iso=('9Z', '12Z', '15Z')))],\n",
       "         [LipidLabel(db_id='LMGP20020011', db='LipidMaps', names=('PE(P-16:0/20:4(6E,8Z,11Z,14Z)(5OH[S]))', '1-O-(1Z-hexadecenyl)-2-(5S-hydroxy-6E,8Z,11Z,14Z-eicosatetraenoyl)-sn-glycero-3-phosphoethanolamine', '16:0p/5-HETE-PE')),\n",
       "          Headgroup(main='PE', sub=('',)),\n",
       "          Chain(c=36, u=4, typ=None, attr=ChainAttr(sph='', ether=True, oh=('5OH',)), iso=()),\n",
       "          (Chain(c=16, u=0, typ='FA', attr=ChainAttr(sph='', ether=True, oh=()), iso=()), Chain(c=20, u=4, typ='FA', attr=ChainAttr(sph='', ether=False, oh=('5OH',)), iso=('6E', '8Z', '11Z', '14Z')))],\n",
       "         [LipidLabel(db_id='LMGP01011418', db='LipidMaps', names=('PC(15:0/18:4(6Z,9Z,12Z,15Z))', '1-pentadecanoyl-2-(6Z,9Z,12Z,15Z-octadecatetraenoyl)-glycero-3-phosphocholine')),\n",
       "          Headgroup(main='PC', sub=('',)),\n",
       "          Chain(c=33, u=4, typ=None, attr=ChainAttr(sph='', ether=False, oh=()), iso=()),\n",
       "          (Chain(c=15, u=0, typ='FA', attr=ChainAttr(sph='', ether=False, oh=()), iso=()), Chain(c=18, u=4, typ='FA', attr=ChainAttr(sph='', ether=False, oh=()), iso=('6Z', '9Z', '12Z', '15Z')))],\n",
       "         [LipidLabel(db_id='LMGP02010096', db='LipidMaps', names=('PE(16:0/20:4(5Z,8Z,11Z,14Z))', '1-hexadecanoyl-2-(5Z,8Z,11Z,14Z-eicosatetraenoyl)-sn-glycero-3-phosphoethanolamine', '5,8,11,14-Eicosatetraenoic acid, 1-[[[(2-aminoethoxy)hydroxyphosphinyl]oxy]methyl]-2-[(1-oxohexadecyl)oxy]ethyl ester, [R-(all-Z)]-', 'PE(16:0/20:4)')),\n",
       "          Headgroup(main='PE', sub=('',)),\n",
       "          Chain(c=36, u=4, typ=None, attr=ChainAttr(sph='', ether=False, oh=()), iso=()),\n",
       "          (Chain(c=16, u=0, typ='FA', attr=ChainAttr(sph='', ether=False, oh=()), iso=()), Chain(c=20, u=4, typ='FA', attr=ChainAttr(sph='', ether=False, oh=()), iso=('5Z', '8Z', '11Z', '14Z')))],\n",
       "         [LipidLabel(db_id='LMGP02010909', db='LipidMaps', names=('PE(20:3(8Z,11Z,14Z)/16:1(9Z))', '1-(8Z,11Z,14Z-eicosatrienoyl)-2-(9Z-hexadecenoyl)-glycero-3-phosphoethanolamine')),\n",
       "          Headgroup(main='PE', sub=('',)),\n",
       "          Chain(c=36, u=4, typ=None, attr=ChainAttr(sph='', ether=False, oh=()), iso=()),\n",
       "          (Chain(c=20, u=3, typ='FA', attr=ChainAttr(sph='', ether=False, oh=()), iso=('8Z', '11Z', '14Z')), Chain(c=16, u=1, typ='FA', attr=ChainAttr(sph='', ether=False, oh=()), iso=('9Z',)))],\n",
       "         [LipidLabel(db_id='LMGP20020008', db='LipidMaps', names=('PE(P-16:0/20:4(5Z,8Z,11Z,13E)(15OH[S]))', '1-O-(1Z-hexadecenyl)-2-(15S-hydroxy-5Z,8Z,11Z,13E-eicosatetraenoyl)-sn-glycero-3-phosphoethanolamine', '16:0p/15-HETE-PE')),\n",
       "          Headgroup(main='PE', sub=('',)),\n",
       "          Chain(c=36, u=4, typ=None, attr=ChainAttr(sph='', ether=True, oh=('15OH',)), iso=()),\n",
       "          (Chain(c=16, u=0, typ='FA', attr=ChainAttr(sph='', ether=True, oh=()), iso=()), Chain(c=20, u=4, typ='FA', attr=ChainAttr(sph='', ether=False, oh=('15OH',)), iso=('5Z', '8Z', '11Z', '13E')))],\n",
       "         [LipidLabel(db_id='LMGP02010532', db='LipidMaps', names=('PE(16:1(9Z)/20:3(8Z,11Z,14Z))', '1-(9Z-hexadecenoyl)-2-(8Z,11Z,14Z-eicosatrienoyl)-glycero-3-phosphoethanolamine')),\n",
       "          Headgroup(main='PE', sub=('',)),\n",
       "          Chain(c=36, u=4, typ=None, attr=ChainAttr(sph='', ether=False, oh=()), iso=()),\n",
       "          (Chain(c=16, u=1, typ='FA', attr=ChainAttr(sph='', ether=False, oh=()), iso=('9Z',)), Chain(c=20, u=3, typ='FA', attr=ChainAttr(sph='', ether=False, oh=()), iso=('8Z', '11Z', '14Z')))],\n",
       "         [LipidLabel(db_id='LMGP02011203', db='LipidMaps', names=('PE(18:0/18:4(6Z,9Z,12Z,15Z))', '1-octadecanoyl-2-(6Z,9Z,12Z,15Z-octadecatetraenoyl)-glycero-3-phosphoethanolamine')),\n",
       "          Headgroup(main='PE', sub=('',)),\n",
       "          Chain(c=36, u=4, typ=None, attr=ChainAttr(sph='', ether=False, oh=()), iso=()),\n",
       "          (Chain(c=18, u=0, typ='FA', attr=ChainAttr(sph='', ether=False, oh=()), iso=()), Chain(c=18, u=4, typ='FA', attr=ChainAttr(sph='', ether=False, oh=()), iso=('6Z', '9Z', '12Z', '15Z')))],\n",
       "         [LipidLabel(db_id='LMGP01011898', db='LipidMaps', names=('PC(20:4(5Z,8Z,11Z,14Z)/13:0)', '1-(5Z,8Z,11Z,14Z-eicosatetraenoyl)-2-tridecanoyl-glycero-3-phosphocholine')),\n",
       "          Headgroup(main='PC', sub=('',)),\n",
       "          Chain(c=33, u=4, typ=None, attr=ChainAttr(sph='', ether=False, oh=()), iso=()),\n",
       "          (Chain(c=20, u=4, typ='FA', attr=ChainAttr(sph='', ether=False, oh=()), iso=('5Z', '8Z', '11Z', '14Z')), Chain(c=13, u=0, typ='FA', attr=ChainAttr(sph='', ether=False, oh=()), iso=()))],\n",
       "         [LipidLabel(db_id='LMGP02010749', db='LipidMaps', names=('PE(18:4(6Z,9Z,12Z,15Z)/18:0)', '1-(6Z,9Z,12Z,15Z-octadecatetraenoyl)-2-octadecanoyl-glycero-3-phosphoethanolamine')),\n",
       "          Headgroup(main='PE', sub=('',)),\n",
       "          Chain(c=36, u=4, typ=None, attr=ChainAttr(sph='', ether=False, oh=()), iso=()),\n",
       "          (Chain(c=18, u=4, typ='FA', attr=ChainAttr(sph='', ether=False, oh=()), iso=('6Z', '9Z', '12Z', '15Z')), Chain(c=18, u=0, typ='FA', attr=ChainAttr(sph='', ether=False, oh=()), iso=()))],\n",
       "         [LipidLabel(db_id='LMGP02011104', db='LipidMaps', names=('PE(22:4(7Z,10Z,13Z,16Z)/14:0)', '1-(7Z,10Z,13Z,16Z-docosatetraenoyl)-2-tetradecanoyl-glycero-3-phosphoethanolamine')),\n",
       "          Headgroup(main='PE', sub=('',)),\n",
       "          Chain(c=36, u=4, typ=None, attr=ChainAttr(sph='', ether=False, oh=()), iso=()),\n",
       "          (Chain(c=22, u=4, typ='FA', attr=ChainAttr(sph='', ether=False, oh=()), iso=('7Z', '10Z', '13Z', '16Z')), Chain(c=14, u=0, typ='FA', attr=ChainAttr(sph='', ether=False, oh=()), iso=()))],\n",
       "         [LipidLabel(db_id='LMGP02010643', db='LipidMaps', names=('PE(18:1(9Z)/18:3(6Z,9Z,12Z))', '1-(9Z-octadecenoyl)-2-(6Z,9Z,12Z-octadecatrienoyl)-glycero-3-phosphoethanolamine')),\n",
       "          Headgroup(main='PE', sub=('',)),\n",
       "          Chain(c=36, u=4, typ=None, attr=ChainAttr(sph='', ether=False, oh=()), iso=()),\n",
       "          (Chain(c=18, u=1, typ='FA', attr=ChainAttr(sph='', ether=False, oh=()), iso=('9Z',)), Chain(c=18, u=3, typ='FA', attr=ChainAttr(sph='', ether=False, oh=()), iso=('6Z', '9Z', '12Z')))],\n",
       "         [LipidLabel(db_id='LMGP01011704', db='LipidMaps', names=('PC(18:4(6Z,9Z,12Z,15Z)/15:0)', '1-(6Z,9Z,12Z,15Z-octadecatetraenoyl)-2-pentadecanoyl-glycero-3-phosphocholine')),\n",
       "          Headgroup(main='PC', sub=('',)),\n",
       "          Chain(c=33, u=4, typ=None, attr=ChainAttr(sph='', ether=False, oh=()), iso=()),\n",
       "          (Chain(c=18, u=4, typ='FA', attr=ChainAttr(sph='', ether=False, oh=()), iso=('6Z', '9Z', '12Z', '15Z')), Chain(c=15, u=0, typ='FA', attr=ChainAttr(sph='', ether=False, oh=()), iso=()))],\n",
       "         [LipidLabel(db_id='LMGP01011676', db='LipidMaps', names=('PC(18:3(9Z,12Z,15Z)/15:1(9Z))', '1-(9Z,12Z,15Z-octadecatrienoyl)-2-(9Z-pentadecenoyl)-glycero-3-phosphocholine')),\n",
       "          Headgroup(main='PC', sub=('',)),\n",
       "          Chain(c=33, u=4, typ=None, attr=ChainAttr(sph='', ether=False, oh=()), iso=()),\n",
       "          (Chain(c=18, u=3, typ='FA', attr=ChainAttr(sph='', ether=False, oh=()), iso=('9Z', '12Z', '15Z')), Chain(c=15, u=1, typ='FA', attr=ChainAttr(sph='', ether=False, oh=()), iso=('9Z',)))],\n",
       "         [LipidLabel(db_id='LMGP02011197', db='LipidMaps', names=('PE(18:1(9Z)/18:3(9Z,12Z,15Z))', '1-(9Z-octadecenoyl)-2-(9Z,12Z,15Z-octadecatrienoyl)-glycero-3-phosphoethanolamine')),\n",
       "          Headgroup(main='PE', sub=('',)),\n",
       "          Chain(c=36, u=4, typ=None, attr=ChainAttr(sph='', ether=False, oh=()), iso=()),\n",
       "          (Chain(c=18, u=1, typ='FA', attr=ChainAttr(sph='', ether=False, oh=()), iso=('9Z',)), Chain(c=18, u=3, typ='FA', attr=ChainAttr(sph='', ether=False, oh=()), iso=('9Z', '12Z', '15Z')))],\n",
       "         [LipidLabel(db_id='LMGP01011645', db='LipidMaps', names=('PC(18:3(6Z,9Z,12Z)/15:1(9Z))', '1-(6Z,9Z,12Z-octadecatrienoyl)-2-(9Z-pentadecenoyl)-glycero-3-phosphocholine')),\n",
       "          Headgroup(main='PC', sub=('',)),\n",
       "          Chain(c=33, u=4, typ=None, attr=ChainAttr(sph='', ether=False, oh=()), iso=()),\n",
       "          (Chain(c=18, u=3, typ='FA', attr=ChainAttr(sph='', ether=False, oh=()), iso=('6Z', '9Z', '12Z')), Chain(c=15, u=1, typ='FA', attr=ChainAttr(sph='', ether=False, oh=()), iso=('9Z',)))],\n",
       "         [LipidLabel(db_id='LMGP02011190', db='LipidMaps', names=('PE(18:3(9Z,12Z,15Z)/18:1(9Z))', '1-(9Z,12Z,15Z-octadecatrienoyl)-2-(9Z-octadecenoyl)-glycero-3-phosphoethanolamine')),\n",
       "          Headgroup(main='PE', sub=('',)),\n",
       "          Chain(c=36, u=4, typ=None, attr=ChainAttr(sph='', ether=False, oh=()), iso=()),\n",
       "          (Chain(c=18, u=3, typ='FA', attr=ChainAttr(sph='', ether=False, oh=()), iso=('9Z', '12Z', '15Z')), Chain(c=18, u=1, typ='FA', attr=ChainAttr(sph='', ether=False, oh=()), iso=('9Z',)))],\n",
       "         [LipidLabel(db_id='LMGP02010421', db='LipidMaps', names=('PE(14:0/22:4(7Z,10Z,13Z,16Z))', '1-tetradecanoyl-2-(7Z,10Z,13Z,16Z-docosatetraenoyl)-glycero-3-phosphoethanolamine')),\n",
       "          Headgroup(main='PE', sub=('',)),\n",
       "          Chain(c=36, u=4, typ=None, attr=ChainAttr(sph='', ether=False, oh=()), iso=()),\n",
       "          (Chain(c=14, u=0, typ='FA', attr=ChainAttr(sph='', ether=False, oh=()), iso=()), Chain(c=22, u=4, typ='FA', attr=ChainAttr(sph='', ether=False, oh=()), iso=('7Z', '10Z', '13Z', '16Z')))],\n",
       "         [LipidLabel(db_id='LMGP02010691', db='LipidMaps', names=('PE(18:3(6Z,9Z,12Z)/18:1(9Z))', '1-(6Z,9Z,12Z-octadecatrienoyl)-2-(9Z-octadecenoyl)-glycero-3-phosphoethanolamine')),\n",
       "          Headgroup(main='PE', sub=('',)),\n",
       "          Chain(c=36, u=4, typ=None, attr=ChainAttr(sph='', ether=False, oh=()), iso=()),\n",
       "          (Chain(c=18, u=3, typ='FA', attr=ChainAttr(sph='', ether=False, oh=()), iso=('6Z', '9Z', '12Z')), Chain(c=18, u=1, typ='FA', attr=ChainAttr(sph='', ether=False, oh=()), iso=('9Z',)))],\n",
       "         [LipidLabel(db_id='LMGP01011445', db='LipidMaps', names=('PC(15:1(9Z)/18:3(6Z,9Z,12Z))', '1-(9Z-pentadecenoyl)-2-(6Z,9Z,12Z-octadecatrienoyl)-glycero-3-phosphocholine')),\n",
       "          Headgroup(main='PC', sub=('',)),\n",
       "          Chain(c=33, u=4, typ=None, attr=ChainAttr(sph='', ether=False, oh=()), iso=()),\n",
       "          (Chain(c=15, u=1, typ='FA', attr=ChainAttr(sph='', ether=False, oh=()), iso=('9Z',)), Chain(c=18, u=3, typ='FA', attr=ChainAttr(sph='', ether=False, oh=()), iso=('6Z', '9Z', '12Z')))],\n",
       "         [LipidLabel(db_id=None, db='lipyd.lipid', names=('1OAcyl-Cer(d48:13-2OH)',)),\n",
       "          Headgroup(main='Cer', sub=('1OAcyl',)),\n",
       "          Chain(c=48, u=13, typ=None, attr=ChainAttr(sph='d', ether=False, oh=('2OH',)), iso=()),\n",
       "          ()],\n",
       "         [LipidLabel(db_id=None, db='lipyd.lipid', names=('1OAcyl-Cer(t48:13)',)),\n",
       "          Headgroup(main='Cer', sub=('1OAcyl',)),\n",
       "          Chain(c=48, u=13, typ=None, attr=ChainAttr(sph='t', ether=False, oh=()), iso=()),\n",
       "          ()],\n",
       "         [LipidLabel(db_id=None, db='lipyd.lipid', names=('1OAcyl-Cer(DH48:13-2OH)',)),\n",
       "          Headgroup(main='Cer', sub=('1OAcyl',)),\n",
       "          Chain(c=48, u=13, typ=None, attr=ChainAttr(sph='DH', ether=False, oh=('2OH',)), iso=()),\n",
       "          ()],\n",
       "         [LipidLabel(db_id=None, db='lipyd.lipid', names=('Hex-Cer(t35:4-2OH)',)),\n",
       "          Headgroup(main='Cer', sub=('Hex',)),\n",
       "          Chain(c=35, u=4, typ=None, attr=ChainAttr(sph='t', ether=False, oh=('2OH',)), iso=()),\n",
       "          ()],\n",
       "         [LipidLabel(db_id=None, db='lipyd.lipid', names=('Hex-Cer(d38:9)',)),\n",
       "          Headgroup(main='Cer', sub=('Hex',)),\n",
       "          Chain(c=38, u=9, typ=None, attr=ChainAttr(sph='d', ether=False, oh=()), iso=()),\n",
       "          ()],\n",
       "         [LipidLabel(db_id=None, db='lipyd.lipid', names=('Hex-Cer(DH38:9)',)),\n",
       "          Headgroup(main='Cer', sub=('Hex',)),\n",
       "          Chain(c=38, u=9, typ=None, attr=ChainAttr(sph='DH', ether=False, oh=()), iso=()),\n",
       "          ()]], dtype=object),\n",
       "  array([-1.69750819e-02, -1.69750819e-02, -2.69161082e-02, -2.69161082e-02,\n",
       "         -2.69161082e-02, -2.69161082e-02, -3.04974547e-02, -3.04974547e-02,\n",
       "         -3.04974547e-02, -3.04974547e-02, -3.04974547e-02, -3.04974547e-02,\n",
       "         -3.04974547e-02, -3.04974547e-02, -3.04974547e-02, -3.04974547e-02,\n",
       "         -3.04974547e-02, -3.04974547e-02, -3.04974547e-02, -3.04974547e-02,\n",
       "         -3.04974547e-02, -3.04974547e-02, -3.04974547e-02, -3.04974547e-02,\n",
       "         -3.04974547e-02, -3.04974547e-02, -3.04974547e-02, -3.04974547e-02,\n",
       "         -3.04974547e-02, -3.04974547e-02, -3.04974547e-02, -3.23033863e+00,\n",
       "         -3.23033863e+00, -3.23033863e+00, -1.11723392e+01,  1.73995818e+01,\n",
       "          1.73995818e+01])),\n",
       " '[M+Na]+': (array([734.55740452, 734.55740452, 734.54854011, 734.546174  ,\n",
       "         734.546174  , 734.546174  , 734.546174  , 734.546174  ,\n",
       "         734.546174  , 734.54617113, 734.54617113, 734.546171  ]),\n",
       "  array([[LipidLabel(db_id=None, db='lipyd.lipid', names=('SM(t34:1-2OH)',)),\n",
       "          Headgroup(main='SM', sub=()),\n",
       "          Chain(c=34, u=1, typ=None, attr=ChainAttr(sph='t', ether=False, oh=('2OH',)), iso=()),\n",
       "          ()],\n",
       "         [LipidLabel(db_id=None, db='lipyd.lipid', names=('PE-Cer(t37:1-2OH)',)),\n",
       "          Headgroup(main='Cer', sub=('PE',)),\n",
       "          Chain(c=37, u=1, typ=None, attr=ChainAttr(sph='t', ether=False, oh=('2OH',)), iso=()),\n",
       "          ()],\n",
       "         [LipidLabel(db_id=None, db='lipyd.lipid', names=('TAG(44:8)',)),\n",
       "          Headgroup(main='TAG', sub=()),\n",
       "          Chain(c=44, u=8, typ=None, attr=ChainAttr(sph='', ether=False, oh=()), iso=()),\n",
       "          ()],\n",
       "         [LipidLabel(db_id='LMGP04020072', db='LipidMaps', names=('PG(O-18:0/16:1(9Z))', \"1-octadecyl-2-(9Z-hexadecenoyl)-glycero-3-phospho-(1'-sn-glycerol)\")),\n",
       "          Headgroup(main='PG', sub=('',)),\n",
       "          Chain(c=34, u=1, typ=None, attr=ChainAttr(sph='', ether=True, oh=()), iso=()),\n",
       "          (Chain(c=18, u=0, typ='FA', attr=ChainAttr(sph='', ether=True, oh=()), iso=()), Chain(c=16, u=1, typ='FA', attr=ChainAttr(sph='', ether=False, oh=()), iso=('9Z',)))],\n",
       "         [LipidLabel(db_id='LMGP04030012', db='LipidMaps', names=('PG(P-16:0/18:0)', \"1-(1Z-hexadecenyl)-2-octadecanoyl-glycero-3-phospho-(1'-sn-glycerol)\")),\n",
       "          Headgroup(main='PG', sub=('',)), None, list([])],\n",
       "         [LipidLabel(db_id='LMGP04020044', db='LipidMaps', names=('PG(O-20:0/14:1(9Z))', \"1-eicosyl-2-(9Z-tetradecenoyl)-glycero-3-phospho-(1'-sn-glycerol)\")),\n",
       "          Headgroup(main='PG', sub=('',)),\n",
       "          Chain(c=34, u=1, typ=None, attr=ChainAttr(sph='', ether=True, oh=()), iso=()),\n",
       "          (Chain(c=20, u=0, typ='FA', attr=ChainAttr(sph='', ether=True, oh=()), iso=()), Chain(c=14, u=1, typ='FA', attr=ChainAttr(sph='', ether=False, oh=()), iso=('9Z',)))],\n",
       "         [LipidLabel(db_id='LMGP04020092', db='LipidMaps', names=('PG(O-16:0/18:1(9Z))', \"1-hexadecyl-2-(9Z-octadecenoyl)-glycero-3-phospho-(1'-sn-glycerol)\")),\n",
       "          Headgroup(main='PG', sub=('',)),\n",
       "          Chain(c=34, u=1, typ=None, attr=ChainAttr(sph='', ether=True, oh=()), iso=()),\n",
       "          (Chain(c=16, u=0, typ='FA', attr=ChainAttr(sph='', ether=True, oh=()), iso=()), Chain(c=18, u=1, typ='FA', attr=ChainAttr(sph='', ether=False, oh=()), iso=('9Z',)))],\n",
       "         [LipidLabel(db_id='LMGP04030058', db='LipidMaps', names=('PG(P-20:0/14:0)', \"1-(1Z-eicosenyl)-2-tetradecanoyl-glycero-3-phospho-(1'-sn-glycerol)\")),\n",
       "          Headgroup(main='PG', sub=('',)), None, list([])],\n",
       "         [LipidLabel(db_id='LMGP04030034', db='LipidMaps', names=('PG(P-18:0/16:0)', \"1-(1Z-octadecenyl)-2-hexadecanoyl-glycero-3-phospho-(1'-sn-glycerol)\")),\n",
       "          Headgroup(main='PG', sub=('',)), None, list([])],\n",
       "         [LipidLabel(db_id=None, db='lipyd.lipid', names=('PG(O-34:1)',)),\n",
       "          Headgroup(main='PG', sub=()),\n",
       "          Chain(c=34, u=1, typ=None, attr=ChainAttr(sph='', ether=True, oh=()), iso=()),\n",
       "          ()],\n",
       "         [LipidLabel(db_id=None, db='lipyd.lipid', names=('LysoPG(34:1)',)),\n",
       "          Headgroup(main='LysoPG', sub=()),\n",
       "          Chain(c=34, u=1, typ=None, attr=ChainAttr(sph='', ether=False, oh=()), iso=()),\n",
       "          ()],\n",
       "         [LipidLabel(db_id='SLM:000508563', db='SwissLipids', names=('Phosphatidylglycerol (O-34:1)', 'PG(O-34:1)', '')),\n",
       "          Headgroup(main='PG', sub=('',)), None, list([])]], dtype=object),\n",
       "  array([ 3.24790562,  3.24790562, 15.31555309, 18.53667746, 18.53667746,\n",
       "         18.53667746, 18.53667746, 18.53667746, 18.53667746, 18.54058614,\n",
       "         18.54058614, 18.54076154]))}"
      ]
     },
     "execution_count": 6,
     "metadata": {},
     "output_type": "execute_result"
    }
   ],
   "source": [
    "db.adduct_lookup(757.549011, ionm = 'pos')"
   ]
  },
  {
   "cell_type": "code",
   "execution_count": 9,
   "metadata": {},
   "outputs": [
    {
     "data": {
      "text/plain": [
       "array([LipidLabel(db_id=None, db='lipyd.lipid', names=('PE(36:4)',)),\n",
       "       Headgroup(main='PE', sub=()),\n",
       "       Chain(c=36, u=4, typ=None, attr=ChainAttr(sph='', ether=False, oh=()), iso=()),\n",
       "       ()], dtype=object)"
      ]
     },
     "execution_count": 9,
     "metadata": {},
     "output_type": "execute_result"
    }
   ],
   "source": [
    "db.adduct_lookup(757.549011, ionm = 'pos')['[M+NH4]+'][1][2]"
   ]
  },
  {
   "cell_type": "code",
   "execution_count": 10,
   "metadata": {},
   "outputs": [
    {
     "name": "stdout",
     "output_type": "stream",
     "text": [
      "\t:: Indexed 42556 records from `cache/LMSDFDownload12Dec17FinalAll.sdf`.\n"
     ]
    }
   ],
   "source": [
    "lm = moldb.LipidMaps()"
   ]
  },
  {
   "cell_type": "code",
   "execution_count": 11,
   "metadata": {},
   "outputs": [],
   "source": [
    "gibberellin = list(lm.get_record('LMPR0104170034', typ = 'mainkey'))[0]"
   ]
  },
  {
   "cell_type": "code",
   "execution_count": 16,
   "metadata": {},
   "outputs": [
    {
     "data": {
      "text/plain": [
       "{'COMMON_NAME': 'gibberellin A17',\n",
       " 'SYNONYMS': 'GA17; gibberellin 17',\n",
       " 'PUBCHEM_CID': '5460657',\n",
       " 'CHEBI_ID': '24236',\n",
       " 'INCHI': 'InChI=1S/C20H26O7/c1-10-8-18-9-19(10,27)7-4-11(18)20(16(25)26)6-3-5-17(2,15(23)24)13(20)12(18)14(21)22/h11-13,27H,1,3-9H2,2H3,(H,21,22)(H,23,24)(H,25,26)/t11-,12-,13-,17-,18+,19+,20-/m1/s1'}"
      ]
     },
     "execution_count": 16,
     "metadata": {},
     "output_type": "execute_result"
    }
   ],
   "source": [
    "gibberellin['name']"
   ]
  },
  {
   "cell_type": "markdown",
   "metadata": {},
   "source": [
    "**OpenBabel integration:**"
   ]
  },
  {
   "cell_type": "code",
   "execution_count": 18,
   "metadata": {},
   "outputs": [
    {
     "data": {
      "image/svg+xml": [
       "<svg xmlns=\"http://www.w3.org/2000/svg\" font-family=\"sans-serif\" height=\"100\" stroke=\"rgb(0,0,0)\" stroke-linecap=\"round\" stroke-width=\"2\" viewBox=\"0 0 980.666 520\" width=\"100\" x=\"0\" y=\"0\">\n",
       "<line stroke=\"rgb(0,0,0)\" stroke-width=\"2.0\" x1=\"51.3\" x2=\"74.6\" y1=\"406.5\" y2=\"420.0\" />\n",
       "<line stroke=\"rgb(0,0,0)\" stroke-width=\"2.0\" x1=\"929.4\" x2=\"906.0\" y1=\"473.5\" y2=\"460.0\" />\n",
       "<line stroke=\"rgb(0,0,0)\" stroke-width=\"2.0\" x1=\"894.8\" x2=\"871.4\" y1=\"293.5\" y2=\"280.0\" />\n",
       "<line stroke=\"rgb(0,0,0)\" stroke-width=\"2.0\" x1=\"74.6\" x2=\"109.3\" y1=\"420.0\" y2=\"400.0\" />\n",
       "<line stroke=\"rgb(0,0,0)\" stroke-width=\"2.0\" x1=\"906.0\" x2=\"871.4\" y1=\"460.0\" y2=\"480.0\" />\n",
       "<line stroke=\"rgb(0,0,0)\" stroke-width=\"2.0\" x1=\"871.4\" x2=\"836.7\" y1=\"280.0\" y2=\"300.0\" />\n",
       "<line stroke=\"rgb(0,0,0)\" stroke-width=\"2.0\" x1=\"106.3\" x2=\"106.3\" y1=\"400.0\" y2=\"360.0\" />\n",
       "<line stroke=\"rgb(0,0,0)\" stroke-width=\"2.0\" x1=\"112.3\" x2=\"112.3\" y1=\"400.0\" y2=\"360.0\" />\n",
       "<line stroke=\"rgb(0,0,0)\" stroke-width=\"2.0\" x1=\"871.4\" x2=\"836.7\" y1=\"480.0\" y2=\"460.0\" />\n",
       "<line stroke=\"rgb(0,0,0)\" stroke-width=\"2.0\" x1=\"836.7\" x2=\"836.7\" y1=\"300.0\" y2=\"340.0\" />\n",
       "<line stroke=\"rgb(0,0,0)\" stroke-width=\"2.0\" x1=\"109.3\" x2=\"143.9\" y1=\"360.0\" y2=\"340.0\" />\n",
       "<line stroke=\"rgb(0,0,0)\" stroke-width=\"2.0\" x1=\"836.7\" x2=\"802.1\" y1=\"460.0\" y2=\"480.0\" />\n",
       "<line stroke=\"rgb(0,0,0)\" stroke-width=\"2.0\" x1=\"836.7\" x2=\"802.1\" y1=\"340.0\" y2=\"360.0\" />\n",
       "<line stroke=\"rgb(0,0,0)\" stroke-width=\"2.0\" x1=\"143.9\" x2=\"143.9\" y1=\"340.0\" y2=\"300.0\" />\n",
       "<line stroke=\"rgb(0,0,0)\" stroke-width=\"2.0\" x1=\"802.1\" x2=\"767.5\" y1=\"480.0\" y2=\"460.0\" />\n",
       "<line stroke=\"rgb(0,0,0)\" stroke-width=\"2.0\" x1=\"802.1\" x2=\"767.5\" y1=\"360.0\" y2=\"340.0\" />\n",
       "<line stroke=\"rgb(0,0,0)\" stroke-width=\"2.0\" x1=\"142.4\" x2=\"177.1\" y1=\"297.4\" y2=\"277.4\" />\n",
       "<line stroke=\"rgb(0,0,0)\" stroke-width=\"2.0\" x1=\"145.4\" x2=\"180.1\" y1=\"302.6\" y2=\"282.6\" />\n",
       "<line stroke=\"rgb(0,0,0)\" stroke-width=\"2.0\" x1=\"769.0\" x2=\"734.3\" y1=\"462.6\" y2=\"482.6\" />\n",
       "<line stroke=\"rgb(0,0,0)\" stroke-width=\"2.0\" x1=\"766.0\" x2=\"731.3\" y1=\"457.4\" y2=\"477.4\" />\n",
       "<line stroke=\"rgb(0,0,0)\" stroke-width=\"2.0\" x1=\"767.5\" x2=\"732.8\" y1=\"340.0\" y2=\"360.0\" />\n",
       "<line stroke=\"rgb(0,0,0)\" stroke-width=\"2.0\" x1=\"178.6\" x2=\"178.6\" y1=\"280.0\" y2=\"240.0\" />\n",
       "<line stroke=\"rgb(0,0,0)\" stroke-width=\"2.0\" x1=\"732.8\" x2=\"698.2\" y1=\"480.0\" y2=\"460.0\" />\n",
       "<line stroke=\"rgb(0,0,0)\" stroke-width=\"2.0\" x1=\"732.8\" x2=\"732.8\" y1=\"360.0\" y2=\"400.0\" />\n",
       "<line stroke=\"rgb(0,0,0)\" stroke-width=\"2.0\" x1=\"178.6\" x2=\"213.2\" y1=\"240.0\" y2=\"220.0\" />\n",
       "<line stroke=\"rgb(0,0,0)\" stroke-width=\"2.0\" x1=\"698.2\" x2=\"663.5\" y1=\"460.0\" y2=\"480.0\" />\n",
       "<line stroke=\"rgb(0,0,0)\" stroke-width=\"2.0\" x1=\"732.8\" x2=\"698.2\" y1=\"400.0\" y2=\"420.0\" />\n",
       "<line stroke=\"rgb(0,0,0)\" stroke-width=\"2.0\" x1=\"210.2\" x2=\"210.2\" y1=\"220.0\" y2=\"180.0\" />\n",
       "<line stroke=\"rgb(0,0,0)\" stroke-width=\"2.0\" x1=\"216.2\" x2=\"216.2\" y1=\"220.0\" y2=\"180.0\" />\n",
       "<line stroke=\"rgb(0,0,0)\" stroke-width=\"2.0\" x1=\"662.0\" x2=\"627.4\" y1=\"482.6\" y2=\"462.6\" />\n",
       "<line stroke=\"rgb(0,0,0)\" stroke-width=\"2.0\" x1=\"665.0\" x2=\"630.4\" y1=\"477.4\" y2=\"457.4\" />\n",
       "<line stroke=\"rgb(0,0,0)\" stroke-width=\"2.0\" x1=\"213.2\" x2=\"247.8\" y1=\"180.0\" y2=\"160.0\" />\n",
       "<line stroke=\"rgb(0,0,0)\" stroke-width=\"2.0\" x1=\"628.9\" x2=\"594.3\" y1=\"460.0\" y2=\"480.0\" />\n",
       "<line stroke=\"rgb(0,0,0)\" stroke-width=\"2.0\" x1=\"247.8\" x2=\"247.8\" y1=\"160.0\" y2=\"120.0\" />\n",
       "<line stroke=\"rgb(0,0,0)\" stroke-width=\"2.0\" x1=\"594.3\" x2=\"559.6\" y1=\"480.0\" y2=\"460.0\" />\n",
       "<line stroke=\"rgb(0,0,0)\" stroke-width=\"2.0\" x1=\"246.3\" x2=\"281.0\" y1=\"117.4\" y2=\"97.4\" />\n",
       "<line stroke=\"rgb(0,0,0)\" stroke-width=\"2.0\" x1=\"249.3\" x2=\"284.0\" y1=\"122.6\" y2=\"102.6\" />\n",
       "<line stroke=\"rgb(0,0,0)\" stroke-width=\"2.0\" x1=\"561.1\" x2=\"526.5\" y1=\"462.6\" y2=\"482.6\" />\n",
       "<line stroke=\"rgb(0,0,0)\" stroke-width=\"2.0\" x1=\"558.1\" x2=\"523.5\" y1=\"457.4\" y2=\"477.4\" />\n",
       "<line stroke=\"rgb(0,0,0)\" stroke-width=\"2.0\" x1=\"282.5\" x2=\"282.5\" y1=\"100.0\" y2=\"60.0\" />\n",
       "<line stroke=\"rgb(0,0,0)\" stroke-width=\"2.0\" x1=\"525.0\" x2=\"490.3\" y1=\"480.0\" y2=\"460.0\" />\n",
       "<line stroke=\"rgb(0,0,0)\" stroke-width=\"2.0\" x1=\"698.2\" x2=\"663.5\" y1=\"420.0\" y2=\"400.0\" />\n",
       "<line stroke=\"rgb(0,0,0)\" stroke-width=\"2.0\" x1=\"282.5\" x2=\"317.1\" y1=\"60.0\" y2=\"40.0\" />\n",
       "<line stroke=\"rgb(0,0,0)\" stroke-width=\"2.0\" x1=\"490.3\" x2=\"490.3\" y1=\"460.0\" y2=\"420.0\" />\n",
       "<line stroke=\"rgb(0,0,0)\" stroke-width=\"2.0\" x1=\"663.5\" x2=\"628.9\" y1=\"400.0\" y2=\"420.0\" />\n",
       "<line stroke=\"rgb(0,0,0)\" stroke-width=\"2.0\" x1=\"318.6\" x2=\"353.3\" y1=\"37.4\" y2=\"57.4\" />\n",
       "<line stroke=\"rgb(0,0,0)\" stroke-width=\"2.0\" x1=\"315.6\" x2=\"350.3\" y1=\"42.6\" y2=\"62.6\" />\n",
       "<line stroke=\"rgb(0,0,0)\" stroke-width=\"2.0\" x1=\"488.8\" x2=\"523.5\" y1=\"417.4\" y2=\"397.4\" />\n",
       "<line stroke=\"rgb(0,0,0)\" stroke-width=\"2.0\" x1=\"491.8\" x2=\"526.5\" y1=\"422.6\" y2=\"402.6\" />\n",
       "<line stroke=\"rgb(0,0,0)\" stroke-width=\"2.0\" x1=\"628.9\" x2=\"594.3\" y1=\"420.0\" y2=\"400.0\" />\n",
       "<line stroke=\"rgb(0,0,0)\" stroke-width=\"2.0\" x1=\"351.8\" x2=\"351.8\" y1=\"60.0\" y2=\"100.0\" />\n",
       "<line stroke=\"rgb(0,0,0)\" stroke-width=\"2.0\" x1=\"525.0\" x2=\"525.0\" y1=\"400.0\" y2=\"360.0\" />\n",
       "<line stroke=\"rgb(0,0,0)\" stroke-width=\"2.0\" x1=\"594.3\" x2=\"594.3\" y1=\"400.0\" y2=\"360.0\" />\n",
       "<line stroke=\"rgb(0,0,0)\" stroke-width=\"2.0\" x1=\"351.8\" x2=\"386.4\" y1=\"100.0\" y2=\"120.0\" />\n",
       "<line stroke=\"rgb(0,0,0)\" stroke-width=\"2.0\" x1=\"525.0\" x2=\"490.3\" y1=\"360.0\" y2=\"340.0\" />\n",
       "<line stroke=\"rgb(0,0,0)\" stroke-width=\"2.0\" x1=\"594.3\" x2=\"559.6\" y1=\"360.0\" y2=\"340.0\" />\n",
       "<line stroke=\"rgb(0,0,0)\" stroke-width=\"2.0\" x1=\"386.4\" x2=\"386.4\" y1=\"120.0\" y2=\"160.0\" />\n",
       "<line stroke=\"rgb(0,0,0)\" stroke-width=\"2.0\" x1=\"490.3\" x2=\"490.3\" y1=\"340.0\" y2=\"300.0\" />\n",
       "<line stroke=\"rgb(0,0,0)\" stroke-width=\"2.0\" x1=\"559.6\" x2=\"559.6\" y1=\"340.0\" y2=\"300.0\" />\n",
       "<line stroke=\"rgb(0,0,0)\" stroke-width=\"2.0\" x1=\"386.4\" x2=\"421.1\" y1=\"160.0\" y2=\"180.0\" />\n",
       "<line stroke=\"rgb(0,0,0)\" stroke-width=\"2.0\" x1=\"490.3\" x2=\"455.7\" y1=\"300.0\" y2=\"280.0\" />\n",
       "<polygon fill=\"rgb(0,0,0)\" points=\"490.333210 220.000000 526.974226 236.535898 522.974226 243.464102 \" stroke=\"rgb(0,0,0)\" stroke-width=\"2.000000\" />\n",
       "<line stroke=\"rgb(0,0,0)\" stroke-width=\"2.0\" x1=\"525.0\" x2=\"525.0\" y1=\"240.0\" y2=\"267.0\" />\n",
       "<line stroke=\"rgb(0,0,0)\" stroke-width=\"2.0\" x1=\"490.3\" x2=\"490.3\" y1=\"180.0\" y2=\"220.0\" />\n",
       "<line stroke=\"rgb(0,0,0)\" stroke-width=\"2.0\" x1=\"490.3\" x2=\"467.0\" y1=\"180.0\" y2=\"166.5\" />\n",
       "<line stroke=\"rgb(0,0,0)\" stroke-width=\"2.0\" x1=\"490.3\" x2=\"467.0\" y1=\"220.0\" y2=\"233.5\" />\n",
       "<line stroke=\"rgb(0,0,0)\" stroke-width=\"2.0\" x1=\"558.1\" x2=\"581.5\" y1=\"297.4\" y2=\"283.9\" />\n",
       "<line stroke=\"rgb(0,0,0)\" stroke-width=\"2.0\" x1=\"561.1\" x2=\"584.5\" y1=\"302.6\" y2=\"289.1\" />\n",
       "<line stroke=\"rgb(0,0,0)\" stroke-width=\"2.0\" x1=\"559.6\" x2=\"536.2\" y1=\"300.0\" y2=\"286.5\" />\n",
       "<line stroke=\"rgb(0,0,0)\" stroke-width=\"2.0\" x1=\"424.1\" x2=\"424.1\" y1=\"180.0\" y2=\"207.0\" />\n",
       "<line stroke=\"rgb(0,0,0)\" stroke-width=\"2.0\" x1=\"418.1\" x2=\"418.1\" y1=\"180.0\" y2=\"207.0\" />\n",
       "<line stroke=\"rgb(0,0,0)\" stroke-width=\"2.0\" x1=\"421.1\" x2=\"444.4\" y1=\"180.0\" y2=\"166.5\" />\n",
       "<line stroke=\"rgb(0,0,0)\" stroke-width=\"2.0\" x1=\"457.2\" x2=\"433.8\" y1=\"282.6\" y2=\"296.1\" />\n",
       "<line stroke=\"rgb(0,0,0)\" stroke-width=\"2.0\" x1=\"454.2\" x2=\"430.8\" y1=\"277.4\" y2=\"290.9\" />\n",
       "<line stroke=\"rgb(0,0,0)\" stroke-width=\"2.0\" x1=\"455.7\" x2=\"455.7\" y1=\"280.0\" y2=\"253.0\" />\n",
       "<text fill=\"rgb(255,12,12)\" font-size=\"16\" stroke=\"rgb(255,12,12)\" stroke-width=\"1\" x=\"588.256258\" y=\"288.000000\">O</text>\n",
       "<text fill=\"rgb(255,12,12)\" font-size=\"16\" stroke=\"rgb(255,12,12)\" stroke-width=\"1\" x=\"415.051178\" y=\"228.000000\">O</text>\n",
       "<text fill=\"rgb(255,12,12)\" font-size=\"16\" stroke=\"rgb(255,12,12)\" stroke-width=\"1\" x=\"415.051178\" y=\"308.000000\">O</text>\n",
       "<text fill=\"rgb(255,12,12)\" font-size=\"16\" stroke=\"rgb(255,12,12)\" stroke-width=\"1\" x=\"518.974226\" y=\"288.000000\">O</text>\n",
       "<text fill=\"rgb(255,12,12)\" font-size=\"16\" stroke=\"rgb(255,12,12)\" stroke-width=\"1\" x=\"449.692194\" y=\"168.000000\">O</text>\n",
       "<text fill=\"rgb(255,12,12)\" font-size=\"16\" stroke=\"rgb(255,12,12)\" stroke-width=\"1\" x=\"449.692194\" y=\"248.000000\">O</text>\n",
       "<text fill=\"rgb(102,102,102)\" font-size=\"16\" stroke=\"rgb(102,102,102)\" stroke-width=\"1\" x=\"936.666420\" y=\"488.000000\">CH</text>\n",
       "<text fill=\"rgb(102,102,102)\" font-size=\"13\" stroke=\"rgb(102,102,102)\" stroke-width=\"1\" x=\"960.666420\" y=\"491.680000\">3</text>\n",
       "<text fill=\"rgb(102,102,102)\" font-size=\"16\" stroke=\"rgb(102,102,102)\" stroke-width=\"1\" x=\"902.025404\" y=\"308.000000\">CH</text>\n",
       "<text fill=\"rgb(102,102,102)\" font-size=\"13\" stroke=\"rgb(102,102,102)\" stroke-width=\"1\" x=\"926.025404\" y=\"311.680000\">3</text>\n",
       "<text fill=\"rgb(102,102,102)\" font-size=\"16\" stroke=\"rgb(102,102,102)\" stroke-width=\"1\" x=\"14.000000\" y=\"408.000000\">H</text>\n",
       "<text fill=\"rgb(102,102,102)\" font-size=\"13\" stroke=\"rgb(102,102,102)\" stroke-width=\"1\" x=\"26.000000\" y=\"411.680000\">3</text>\n",
       "<text fill=\"rgb(102,102,102)\" font-size=\"16\" stroke=\"rgb(102,102,102)\" stroke-width=\"1\" x=\"32.500000\" y=\"408.000000\">C</text>\n",
       "</svg>\n"
      ],
      "text/plain": [
       "<pybel.Molecule at 0x60690a477160>"
      ]
     },
     "execution_count": 18,
     "metadata": {},
     "output_type": "execute_result"
    }
   ],
   "source": [
    "tag = list(lm.get_obmol('TAG(15:0_20:4_20:5)', 'synonym'))[0]\n",
    "tag"
   ]
  },
  {
   "cell_type": "markdown",
   "metadata": {},
   "source": [
    "### 2: Lipid name parser"
   ]
  },
  {
   "cell_type": "code",
   "execution_count": 19,
   "metadata": {},
   "outputs": [],
   "source": [
    "from lipyd import name"
   ]
  },
  {
   "cell_type": "code",
   "execution_count": 20,
   "metadata": {},
   "outputs": [],
   "source": [
    "nameproc = name.LipidNameProcessor(database = 'swisslipids', iso = True)"
   ]
  },
  {
   "cell_type": "code",
   "execution_count": 22,
   "metadata": {},
   "outputs": [
    {
     "data": {
      "text/plain": [
       "(Headgroup(main='PE', sub=('',)),\n",
       " Chain(c=36, u=4, typ=None, attr=ChainAttr(sph='', ether=False, oh=()), iso=()),\n",
       " (Chain(c=16, u=0, typ='FA', attr=ChainAttr(sph='', ether=False, oh=()), iso=()),\n",
       "  Chain(c=20, u=4, typ='FA', attr=ChainAttr(sph='', ether=False, oh=()), iso=('5Z', '8Z', '11Z', '14Z'))))"
      ]
     },
     "execution_count": 22,
     "metadata": {},
     "output_type": "execute_result"
    }
   ],
   "source": [
    "nameproc.process(['Phosphatidylethanolamine (16:0/20:4(5Z,8Z,11Z,14Z))'])"
   ]
  },
  {
   "cell_type": "code",
   "execution_count": 27,
   "metadata": {},
   "outputs": [
    {
     "data": {
      "text/plain": [
       "(Headgroup(main='FA', sub=()),\n",
       " Chain(c=18, u=0, typ=None, attr=ChainAttr(sph='', ether=False, oh=()), iso=()),\n",
       " [Chain(c=18, u=0, typ='FA', attr=ChainAttr(sph='', ether=False, oh=()), iso=())])"
      ]
     },
     "execution_count": 27,
     "metadata": {},
     "output_type": "execute_result"
    }
   ],
   "source": [
    "nameproc.process(['octadecanoate'])"
   ]
  },
  {
   "cell_type": "markdown",
   "metadata": {},
   "source": [
    "### 3: Classes representing metabolites"
   ]
  },
  {
   "cell_type": "code",
   "execution_count": 28,
   "metadata": {},
   "outputs": [],
   "source": [
    "from lipyd import lipid"
   ]
  },
  {
   "cell_type": "code",
   "execution_count": 29,
   "metadata": {},
   "outputs": [],
   "source": [
    "pe = list(lipid.EtherPE(fa_args = {'c': 16, 'u': 1}, sn2_fa_args = {'c': 28, 'u': 0}))[0]"
   ]
  },
  {
   "cell_type": "code",
   "execution_count": 31,
   "metadata": {},
   "outputs": [
    {
     "data": {
      "text/plain": [
       "('PE(O-16:1/28:0)', 843.70809150558)"
      ]
     },
     "execution_count": 31,
     "metadata": {},
     "output_type": "execute_result"
    }
   ],
   "source": [
    "pe.name, pe.mass"
   ]
  },
  {
   "cell_type": "code",
   "execution_count": 32,
   "metadata": {},
   "outputs": [
    {
     "data": {
      "text/plain": [
       "[<lipyd.substituent.FattyAlkoxy at 0x60690a418400>,\n",
       " <lipyd.substituent.FattyAcyl at 0x60690a4185f8>,\n",
       " <lipyd.formula.Formula at 0x60690a418668>]"
      ]
     },
     "execution_count": 32,
     "metadata": {},
     "output_type": "execute_result"
    }
   ],
   "source": [
    "lipid.EtherPE(fa_args = {'c': 16, 'u': 1}, sn2_fa_args = {'c': 28, 'u': 0}).subs"
   ]
  },
  {
   "cell_type": "markdown",
   "metadata": {},
   "source": [
    "### 4: MS2 fragment database"
   ]
  },
  {
   "cell_type": "code",
   "execution_count": 36,
   "metadata": {},
   "outputs": [],
   "source": [
    "from lipyd import fragdb"
   ]
  },
  {
   "cell_type": "code",
   "execution_count": 55,
   "metadata": {},
   "outputs": [
    {
     "data": {
      "text/plain": [
       "7171"
      ]
     },
     "execution_count": 55,
     "metadata": {},
     "output_type": "execute_result"
    }
   ],
   "source": [
    "imp.reload(fragdb)\n",
    "fragdb.init_db('neg')\n",
    "fragdb.init_db('pos')\n",
    "fragdb.lookup_neg(283.26)"
   ]
  },
  {
   "cell_type": "markdown",
   "metadata": {},
   "source": [
    "### 5: MS2 spectrum analysis"
   ]
  },
  {
   "cell_type": "code",
   "execution_count": 39,
   "metadata": {},
   "outputs": [],
   "source": [
    "from lipyd import ms2\n",
    "from lipyd import settings\n",
    "from lipyd import mgf"
   ]
  },
  {
   "cell_type": "code",
   "execution_count": 40,
   "metadata": {},
   "outputs": [],
   "source": [
    "mgffile = settings.get('mgf_example')\n",
    "mgfreader = mgf.MgfReader(mgffile, label = 'F07')"
   ]
  },
  {
   "cell_type": "code",
   "execution_count": 42,
   "metadata": {},
   "outputs": [],
   "source": [
    "precursor = mgfreader.mgfindex[777, 0]\n",
    "idx, rtdiff = mgfreader.lookup(precursor)"
   ]
  },
  {
   "cell_type": "code",
   "execution_count": 43,
   "metadata": {},
   "outputs": [],
   "source": [
    "scan = mgfreader.get_scan(idx[33])"
   ]
  },
  {
   "cell_type": "code",
   "execution_count": null,
   "metadata": {},
   "outputs": [],
   "source": []
  }
 ],
 "metadata": {
  "kernelspec": {
   "display_name": "Python 3",
   "language": "python",
   "name": "python3"
  },
  "language_info": {
   "codemirror_mode": {
    "name": "ipython",
    "version": 3
   },
   "file_extension": ".py",
   "mimetype": "text/x-python",
   "name": "python",
   "nbconvert_exporter": "python",
   "pygments_lexer": "ipython3",
   "version": "3.7.0"
  }
 },
 "nbformat": 4,
 "nbformat_minor": 2
}
